{
 "cells": [
  {
   "cell_type": "markdown",
   "id": "1961db5f",
   "metadata": {},
   "source": [
    "# Corrective RAG (CRAG)\n",
    "\n",
    "이 튜토리얼은 Corrective-RAG (CRAG) 전략을 구현하는 방법을 설명합니다. CRAG는 검색된 문서에 대한 자기 반성 및 자기 평가를 포함하는 RAG 전략입니다. 이 튜토리얼에서는 LangGraph를 사용하여 이러한 아이디어를 처음부터 구현하는 방법을 다룹니다.\n",
    "\n",
    "이 튜토리얼의 목적은 CRAG의 주요 개념을 이해하고, 이를 LangGraph를 통해 구현하여 검색 및 생성 작업을 최적화하는 것입니다. 이를 통해 사용자는 검색된 문서의 관련성을 평가하고, 필요에 따라 웹 검색을 통해 추가 데이터를 보충하는 방법을 배울 수 있습니다.\n",
    "\n",
    "**Corrective-RAG (CRAG)** 는 검색된 문서에 대한 자기 반성 및 자기 평가를 포함하는 **RAG** 전략입니다.\n",
    "\n",
    "논문 [여기](https://arxiv.org/pdf/2401.15884.pdf)에서 다음과 같은 단계가 수행됩니다.\n",
    "\n",
    "- 적어도 하나의 문서가 관련성 임계값을 초과하면 생성 단계로 진행합니다.\n",
    "- 생성 전에 지식 정제를 수행합니다.\n",
    "- 문서를 \"knowledge strips\"로 분할합니다.\n",
    "- 각 스트립을 평가하고 관련 없는 것을 필터링합니다.\n",
    "- 모든 문서가 관련성 임계값 이하이거나 평가자가 확신이 없으면 추가 데이터 소스를 찾습니다.\n",
    "- 웹 검색을 사용하여 검색을 보완합니다.\n",
    "\n",
    "이러한 아이디어 중 일부를 [LangGraph](https://langchain-ai.github.io/langgraph/)를 사용하여 처음부터 구현합니다.\n",
    "\n",
    "- 첫 번째 단계로 지식 정제 단계를 생략합니다. 필요에 따라 노드로 추가할 수 있습니다.\n",
    "- **어떤** 문서라도 관련이 없으면 웹 검색으로 검색을 보완합니다.\n",
    "- 웹 검색을 위해 [Tavily Search](https://python.langchain.com/docs/integrations/tools/tavily_search/)를 사용합니다.\n",
    "- 웹 검색을 최적화하기 위해 쿼리 재작성을 사용합니다.\n",
    "\n",
    "**주로 다루는 내용**\n",
    "- Corrective RAG (CRAG) 소개: CRAG의 개념과 주요 단계 설명\n",
    "- Setup: 필요한 패키지 설치 및 API 키 설정\n",
    "- Create Index: 블로그 게시물 색인 생성\n",
    "- LLMs: 대형 언어 모델(LLM) 사용\n",
    "- Retrieval Grader: 검색된 문서의 관련성 평가\n",
    "- Generate: 답변 생성\n",
    "- Question Re-writer: 질문 재작성\n",
    "- Web Search Tool: 웹 검색 도구 사용\n",
    "- Create Graph: CRAG를 사용할 그래프 생성\n",
    "- Use the graph: 그래프 사용 방법"
   ]
  },
  {
   "cell_type": "markdown",
   "id": "a170112a",
   "metadata": {},
   "source": [
    "## 환경 설정"
   ]
  },
  {
   "cell_type": "code",
   "execution_count": 4,
   "id": "d3375ae6",
   "metadata": {},
   "outputs": [
    {
     "data": {
      "text/plain": [
       "True"
      ]
     },
     "execution_count": 4,
     "metadata": {},
     "output_type": "execute_result"
    }
   ],
   "source": [
    "# API 키를 환경변수로 관리하기 위한 설정 파일\n",
    "from dotenv import load_dotenv\n",
    "\n",
    "# API 키 정보 로드\n",
    "load_dotenv()"
   ]
  },
  {
   "cell_type": "code",
   "execution_count": 5,
   "id": "6a92d07d",
   "metadata": {},
   "outputs": [
    {
     "name": "stdout",
     "output_type": "stream",
     "text": [
      "LangSmith 추적을 시작합니다.\n",
      "[프로젝트명]\n",
      "CH17-LangGraph-Use-Cases\n"
     ]
    }
   ],
   "source": [
    "# LangSmith 추적을 설정합니다. https://smith.langchain.com\n",
    "# !pip install -qU langchain-teddynote\n",
    "from langchain_teddynote import logging\n",
    "\n",
    "# 프로젝트 이름을 입력합니다.\n",
    "logging.langsmith(\"CH17-LangGraph-Use-Cases\")"
   ]
  },
  {
   "cell_type": "markdown",
   "id": "6e9d52b6",
   "metadata": {},
   "source": [
    "## 기본 PDF 기반 Retrieval Chain 생성\n",
    "\n",
    "여기서는 PDF 문서를 기반으로 Retrieval Chain 을 생성합니다. 가장 단순한 구조의 Retrieval Chain 입니다.\n",
    "\n",
    "단, LangGraph 에서는 Retirever 와 Chain 을 따로 생성합니다. 그래야 각 노드별로 세부 처리를 할 수 있습니다."
   ]
  },
  {
   "cell_type": "code",
   "execution_count": 6,
   "id": "4443177d",
   "metadata": {},
   "outputs": [],
   "source": [
    "from rag.pdf import PDFRetrievalChain\n",
    "\n",
    "# PDF 문서를 로드합니다.\n",
    "pdf = PDFRetrievalChain([\"data/SPRI_AI_Brief_2023년12월호_F.pdf\"]).create_chain()\n",
    "\n",
    "# retriever와 chain을 생성합니다.\n",
    "pdf_retriever = pdf.retriever\n",
    "pdf_chain = pdf.chain"
   ]
  },
  {
   "cell_type": "markdown",
   "id": "ae47f9ae",
   "metadata": {},
   "source": [
    "## LLMs\n",
    "\n",
    "**대형 언어 모델(LLMs)** 는 자연어 처리 작업에서 중요한 역할을 합니다. LLMs는 대량의 텍스트 데이터를 학습하여 다양한 언어 이해 및 생성 작업을 수행할 수 있습니다. 이 튜토리얼에서는 `OpenAI`의 `GPT` 모델을 사용하여 검색된 문서의 내용을 기반으로 답변을 생성합니다.\n",
    "\n",
    "- **LLM의 역할**: 검색된 문서에서 관련 정보를 추출하고, 이를 바탕으로 자연스러운 언어로 답변을 생성합니다.\n",
    "- **모델 선택**: `OpenAI`의 `GPT` 모델을 사용하여 높은 품질의 텍스트 생성을 보장합니다.\n",
    "- **응용 분야**: LLMs는 챗봇, 번역, 요약, 질의응답 시스템 등 다양한 분야에 활용될 수 있습니다.\n",
    "\n",
    "LLMs의 활용을 통해 검색 및 생성 작업의 효율성을 극대화할 수 있습니다."
   ]
  },
  {
   "cell_type": "code",
   "execution_count": 7,
   "id": "59f3e68a",
   "metadata": {},
   "outputs": [],
   "source": [
    "from langchain_core.prompts import ChatPromptTemplate\n",
    "from langchain_openai import ChatOpenAI\n",
    "from langchain_teddynote.models import get_model_name, LLMs\n",
    "from pydantic import BaseModel, Field\n",
    "\n",
    "# 모델 이름 가져오기\n",
    "MODEL_NAME = get_model_name(LLMs.GPT4)\n",
    "\n",
    "\n",
    "# 검색된 문서의 관련성 여부를 이진 점수로 평가하는 데이터 모델\n",
    "class GradeDocuments(BaseModel):\n",
    "    \"\"\"A binary score to determine the relevance of the retrieved document.\"\"\"\n",
    "\n",
    "    # 문서가 질문과 관련이 있는지 여부를 'yes' 또는 'no'로 나타내는 필드\n",
    "    binary_score: str = Field(\n",
    "        description=\"Documents are relevant to the question, 'yes' or 'no'\"\n",
    "    )\n",
    "\n",
    "\n",
    "# LLM 초기화\n",
    "llm = ChatOpenAI(model=MODEL_NAME, temperature=0)\n",
    "\n",
    "# GradeDocuments 데이터 모델을 사용하여 구조화된 출력을 생성하는 LLM\n",
    "structured_llm_grader = llm.with_structured_output(GradeDocuments)\n",
    "\n",
    "# 시스템 프롬프트 정의\n",
    "system = \"\"\"You are a grader assessing relevance of a retrieved document to a user question. \\n \n",
    "    If the document contains keyword(s) or semantic meaning related to the question, grade it as relevant. \\n\n",
    "    Give a binary score 'yes' or 'no' score to indicate whether the document is relevant to the question.\"\"\"\n",
    "\n",
    "# 템플릿 생성\n",
    "grade_prompt = ChatPromptTemplate.from_messages(\n",
    "    [\n",
    "        (\"system\", system),\n",
    "        (\"human\", \"Retrieved document: \\n\\n {document} \\n\\n User question: {question}\"),\n",
    "    ]\n",
    ")\n",
    "\n",
    "# 검색 결과 평가(Evaluator) 생성\n",
    "retrieval_grader = grade_prompt | structured_llm_grader"
   ]
  },
  {
   "cell_type": "code",
   "execution_count": 8,
   "id": "f4dc4768",
   "metadata": {},
   "outputs": [
    {
     "name": "stdout",
     "output_type": "stream",
     "text": [
      "binary_score='yes'\n"
     ]
    }
   ],
   "source": [
    "# 질문 정의\n",
    "question = \"Anthropic 에 투자한 기업의 정보를 알려주세요\"\n",
    "\n",
    "# 문서 검색\n",
    "docs = pdf_retriever.invoke(question)\n",
    "\n",
    "# 검색 결과 평가\n",
    "print(retrieval_grader.invoke({\"question\": question, \"document\": docs}))"
   ]
  },
  {
   "cell_type": "code",
   "execution_count": 9,
   "id": "f03e727f",
   "metadata": {},
   "outputs": [
    {
     "name": "stdout",
     "output_type": "stream",
     "text": [
      "구글은 앤스로픽에 최대 20억 달러를 투자하기로 합의하고, 5억 달러를 우선 투자했습니다. 이 외에도 구글은 AI 동영상 제작 도구를 개발하는 런웨이(Runway)와 오픈소스 소프트웨어 기업 허깅 페이스(Hugging Face)에도 투자하고 있습니다.\n",
      "\n",
      "**Source**\n",
      "- data/SPRI_AI_Brief_2023년12월호_F.pdf (page 13)\n"
     ]
    }
   ],
   "source": [
    "from langchain import hub\n",
    "from langchain_core.output_parsers import StrOutputParser\n",
    "from langchain_openai import ChatOpenAI\n",
    "\n",
    "\n",
    "# LangChain Hub에서 RAG 프롬프트를 가져와 사용\n",
    "prompt = hub.pull(\"teddynote/rag-prompt\")\n",
    "\n",
    "# LLM 초기화\n",
    "llm = ChatOpenAI(model_name=MODEL_NAME, temperature=0)\n",
    "\n",
    "\n",
    "# 문서 포맷팅 함수 정의\n",
    "# 검색된 문서의 페이지 내용을 결합하여 하나의 문자열로 반환\n",
    "def format_docs(docs):\n",
    "    return \"\\n\\n\".join(doc.page_content for doc in docs)\n",
    "\n",
    "\n",
    "# 체인 생성\n",
    "# 프롬프트, LLM, 문자열 출력 파서를 연결하여 체인 생성\n",
    "rag_chain = prompt | llm | StrOutputParser()\n",
    "\n",
    "# 체인 실행 및 결과 출력\n",
    "# 주어진 문맥과 질문을 사용하여 체인을 실행하고 생성된 답변 출력\n",
    "generation = rag_chain.invoke({\"context\": docs, \"question\": question})\n",
    "print(generation)"
   ]
  },
  {
   "cell_type": "markdown",
   "id": "963f59f7",
   "metadata": {},
   "source": [
    "### Question Re-writer"
   ]
  },
  {
   "cell_type": "code",
   "execution_count": 10,
   "id": "81eabae7",
   "metadata": {},
   "outputs": [],
   "source": [
    "from langchain_core.prompts import ChatPromptTemplate\n",
    "from langchain_core.output_parsers import StrOutputParser\n",
    "from langchain_openai import ChatOpenAI\n",
    "\n",
    "# 대형 언어 모델(LLM) 초기화\n",
    "llm = ChatOpenAI(model=MODEL_NAME, temperature=0)\n",
    "\n",
    "# 웹 검색에 최적화된 질문으로 변환하는 질문 재작성기 역할 정의\n",
    "system = \"\"\"You a question re-writer that converts an input question to a better version that is optimized \\n \n",
    "     for web search. Look at the input and try to reason about the underlying semantic intent / meaning.\"\"\"\n",
    "\n",
    "# 템플릿 생성\n",
    "re_write_prompt = ChatPromptTemplate.from_messages(\n",
    "    [\n",
    "        (\"system\", system),\n",
    "        (\n",
    "            \"human\",\n",
    "            \"Here is the initial question: \\n\\n {question} \\n Formulate an improved question.\",\n",
    "        ),\n",
    "    ]\n",
    ")\n",
    "\n",
    "# Question Re-writer 생성\n",
    "question_rewriter = re_write_prompt | llm | StrOutputParser()"
   ]
  },
  {
   "cell_type": "markdown",
   "id": "ddce1876",
   "metadata": {},
   "source": [
    "원본 질문과 재작성된 쿼리를 비교합니다."
   ]
  },
  {
   "cell_type": "code",
   "execution_count": 11,
   "id": "4af72b9a",
   "metadata": {},
   "outputs": [
    {
     "name": "stdout",
     "output_type": "stream",
     "text": [
      "[원본 질문] Anthropic 에 투자한 기업의 정보를 알려주세요\n",
      "[재작성된 결과] \"Anthropic에 투자한 기업 목록과 그들의 투자 규모는 무엇인가요?\"\n"
     ]
    }
   ],
   "source": [
    "# 원본 질문 출력\n",
    "print(f\"[원본 질문] {question}\")\n",
    "\n",
    "# 실행 및 결과 확인\n",
    "print(f'[재작성된 결과] {question_rewriter.invoke({\"question\": question})}')"
   ]
  },
  {
   "cell_type": "markdown",
   "id": "7f4a72cc",
   "metadata": {},
   "source": [
    "## 웹 검색 도구\n",
    "\n",
    "**웹 검색 도구**는 검색된 문서의 관련성을 보완하기 위해 사용됩니다. 이 도구는 추가적인 정보를 제공하여 검색 및 생성 작업의 정확성을 높입니다.\n",
    "\n",
    "- **웹 검색의 필요성**: 모든 문서가 관련성 임계값을 충족하지 않거나 평가자가 확신이 없을 때, 웹 검색을 통해 추가 데이터를 확보합니다.\n",
    "- **Tavily Search 사용**: Tavily Search를 활용하여 웹 검색을 수행합니다. 이는 검색 쿼리를 최적화하고, 보다 관련성 높은 결과를 제공합니다.\n",
    "- **질문 재작성**: 웹 검색을 최적화하기 위해 질문을 재작성하여 검색 쿼리를 개선합니다.\n",
    "\n",
    "이러한 과정을 통해 검색된 문서의 품질을 높이고, 보다 정확한 답변 생성을 지원합니다."
   ]
  },
  {
   "cell_type": "code",
   "execution_count": 12,
   "id": "620d859b",
   "metadata": {},
   "outputs": [
    {
     "name": "stdout",
     "output_type": "stream",
     "text": [
      "['<document><title>\\'오픈AI 라이벌\\' 앤스로픽, 1兆 투자 성공…AI 쩐의 전쟁 불 붙었다 - ZDNet korea</title><url>https://zdnet.co.kr/view/?no=20240221075847</url><content>오픈AI, 구글과 함께 세계 3대 LLM(거대언어모델)을 보유한 기업으로 알려진 인공지능(AI) 스타트업 앤스로픽(Anthropic)이 또 다시 대규모 투자 유치에</content><raw>\\'오픈AI 라이벌\\' 앤스로픽, 1兆 투자 성공…AI 쩐의 전쟁 불 붙었다\\n구글·아마존 이어 멘로 벤처스서 7억5천만 달러 투자금 유치…오픈AI도 투자 유치 활발\\n컴퓨팅입력 :2024/02/21 10:07\\n오픈AI, 구글과 함께 세계 3대 LLM(거대언어모델)을 보유한 기업으로 알려진 인공지능(AI) 스타트업 앤스로픽(Anthropic)이 또 다시 대규모 투자 유치에 성공했다.\\n21일 뉴욕타임스에 따르면 앤스로픽은 이달 중 미국 벤처 캐피털 멘로 벤처스로부터 7억5천만 달러(약 9천700억원) 투자금을 유치했다.\\xa0앤스로픽이 지난 1년간 끌어온 투자금은 총 73억 달러에 달한다.\\n구글과 끈끈한 파트너십을 유지하고 있는 앤스로픽은 지난 2021년 오픈AI에 있던 직원이 공동 설립했다. 구글, 세일즈포스 등을 통해 4억5천만 달러를 유치한 후 전 세계 곳곳에서 투자금이 쏟아지고 있는데, 국내 기업 중에선 LG가 LG테크놀로지벤처스를 통해 지분 투자에 나서 주목 받았다. 첫 투자금은 폴라리스벤처스로부터 1억2천400만 달러를 유치했다.\\n지난해 8월에는 아시아 통신사 두 곳으로부터 1억 달러를 유치했고, 아마존과 구글은 40억 달러, 20억 달러를 더 투자했다. 앤스로픽은 투자한 회사들의 칩, 클라우드 컴퓨팅 서비스 등을 사용하며 사실상 모금한 자금의 일부를 투자자들에게 다시 돌려주고 있다. 챗GPT의 강력한 대항마로 떠오른 인공지능(AI) 챗봇 \\'클로드(Claude)\\'의 경우 아마존의 클라우드 컴퓨팅 시스템인 아마존웹서비스(AWS)에서 제공되는 가장 인기 있는 AI 서비스로 주목 받고 있다.\\n앤스로픽은 챗봇 \\'클로드\\'를 만든 후 다양한 AI 기술을 판매하고 있는데, 작년 한 해 동안 기업 가치는 3배 증가한 150억 달러에 달했다. 평균 월 매출은 약 800만 달러를 기록했고, 올해는 약 8배 성장할 것으로 예상됐다.\\n경쟁사인 오픈AI는 최근 800억 달러(약 106조9천900억원) 이상의 가치를 지닌 것으로 평가됐다. 2019년에는 마이크로소프트로부터 10억 달러를, 이후 추가로 120억 달러를 투자 받았다. 오픈AI는 이 자금의 대부분을 마이크로소프트 애저 클라우드 서비스에 사용했다. 샘 올트먼 오픈AI 최고경영자(CEO)는 최근 AI 반도체 직접 제조를 위해 최대 7조 달러(9천300조원)에 달하는 자금 조달에도 나섰다.\\n이 같은 움직임에\\xa0미국 경쟁당국인 연방거래위원회(FTC)가 최근 AI 스타트업 대규모 투자에 대한 조사에 나서면서 관련 기업들은 긴장감을 감추지 못하고 있다. FTC는 아마존, 구글의 앤스로픽 투자에 대해 독점금지법 위반 여부를 조사하고 있다.\\n관련기사\\n다른 나라에서도 이들에 대한 견제에 나섰다. 영국의 경쟁시장청(CMA)은 지난 달 마이크로소프트의 오픈AI 투자가 사실상 합병에 해당하는지, 시장경쟁을 저해하는지를 들여다보고 있다고 밝힌 바 있다. 유럽연합(EU) 경쟁당국도 해당 거래가 경쟁법 위반 소지가 있는지를 살펴보는 중이다.\\n리나 칸 FTC 위원장은 \"우리 연구는 시장지배력을 가진 기업에 의한 투자와 파트너십이 혁신을 왜곡하고 공정한 경쟁을 약화시키는지를 밝히고자 한다\"고 말했다.\\n지금 뜨는 기사\\n이시각 헤드라인\\nZDNet Power Center\\nConnect with us</raw></document>', '<document><title>돈 빨아들이는 \\'오픈ai 경쟁사\\'들... 아마존, 앤스로픽에 3.7조 또 투자 | 한국일보</title><url>https://www.hankookilbo.com/News/Read/A2024032811380005307</url><content>세계 최대 전자상거래 업체인 아마존이 오픈AI의 대항마로 꼽히는 \\'앤스로픽(Anthropic)\\'에 3조 원이 넘는 거액을 투자하기로 했다.</content><raw>읽는 재미의 발견\\n새로워진 한국일보로그인/회원가입\\n웹 알림 동의 (크롬브라우저만 가능)\\n돈 빨아들이는 \\'오픈AI 경쟁사\\'들... 아마존, 앤스로픽에 3.7조 또 투자\\n오픈AI 출신 남매가 설립한 생성 AI 기업아마존, 추가 지분 확보로 구글·MS 견제\\n세계 최대 전자상거래 업체인 아마존의 로고. AP 연합뉴스\\n세계 최대 전자상거래 업체인 아마존이 오픈AI의 대항마로 꼽히는 \\'앤스로픽(Anthropic)\\'에 3조 원이 넘는 거액을 투자하기로 했다. 이번 투자는 아마존이 1994년 설립 이후 집행한 외부 투자 중 최대 규모다.\\n마이크로소프트(MS)가 130억 달러를 투자한 오픈AI가 챗GPT로 대박을 터뜨리면서 지난해 테크 업계에는 광풍 수준의 생성 인공지능(AI) 기업 투자 바람이 불었다. 작년 한 해 생성 AI 스타트업이 모금한 투자금은 290억 달러(약 39조 원)에 달했는데, 이들 기업이 거액 투자금을 블랙홀처럼 빨아들이는 현상은 올해도 이어질 것이라는 전망이 나온다.\\n\"구글보다 더\"... 앤스로픽에 5조 쏘는 아마존\\n아마존은 27일(현지시간) 앤스로픽에 27억5,000만 달러(약 3조7,000억 원)를 추가 투자하기로 했다고 발표했다. 아마존은 지난해 9월에도 이 회사에 12억5,000만 달러를 투자했다. 이에 따라 총투자액은 40억 달러(약 5조4,000억 원)로 늘었다. 월스트리트저널(WSJ)은 \"아마존이 30년간 다른 회사에 투자한 금액 중 최대\"라고 전했다.\\n앤스로픽은 오픈AI 임원 출신인 대니엘라·다리오 애머데이 남매 등이 2021년 미국 샌프란시스코에서 공동 설립한 AI 스타트업이다. 거대언어모델(LLM) 연구·개발에 널리 사용되는 학술 \\'벤치마크(상대적인 비교를 위한 기준)\\'에서 오픈AI의 GPT-4와 구글의 제미나이 울트라를 능가한 AI 모델 \\'클로드3\\'를 지난 4일 출시했다. 구글이 지난해 2월 이 회사에 4억 달러를 투자하고 지분 10%를 확보해 주목받았다. 이후 구글은 투자액을 최대 20억 달러까지 늘리기로 합의했다. SK텔레콤과 LG그룹 벤처캐피털인 LG테크놀로지벤처스도 앤스로픽에 투자했다.\\n현재 앤스로픽은 아마존의 칩과 클라우드(가상 서버)를 이용해 AI 모델을 구축·서비스 중이고, 아마존은 앤스로픽의 클로드를 자사 제품에 결합하고 있다. 이날 아마존의 추가 투자는 이 같은 관계를 더 공고히 하기 위한 것으로 읽힌다. 지분 추가 확보로 앤스로픽과의 협력에 있어 구글보다 우선순위에 서는 동시에, MS·오픈AI 연합을 견제하려는 것이다.\\n지난해 11월 미국 샌프란시스코에서 열린 오픈AI의 첫 개발자 콘퍼런스에서 샘 올트먼(왼쪽) 오픈AI 최고경영자(CEO)가 무대에 깜짝 등장한 사티아 나델라 마이크로소프트 CEO와 악수하고 있다. 샌프란시스코=이서희 특파원\\n몰아치는 생성 AI 스타트업 투자 바람\\n생성 AI 스타트업에 대한 빅테크들의 투자는 계속될 것이라는 분석이 지배적이다. MS는 지난달 \\'유럽의 오픈AI\\'로 불리는 프랑스 스타트업 미스트랄 AI에도 1,500만 유로(약 218억 원) 투자를 결정했다. 구글 딥러닝 AI 연구팀 출신인 아이단 고메즈 등이 2019년 캐나다 토론토에 설립한 코히어도 5억 달러(약 6,710억 원) 투자 유치를 위한 마무리 단계에 있다고 이날 블룸버그통신이 전했다. 이 회사는 지난해 6월 엔비디아, 오러클 등으로부터 2억7,000만 달러를 투자받기도 했다.\\n기사 URL이 복사되었습니다.\\n당신이 관심 있을만한 이슈\\n경제 많이 본 뉴스\\nLIVE ISSUE\\n기사 URL이 복사되었습니다.\\n댓글0\\n작성하신 글을 삭제하시겠습니까?\\n한국일보에\\n로그인하면 다양한\\n편의 기능을\\n제공 받을 수 있습니다.\\n아이디 또는 비밀번호를 잘못 입력했습니다.(연속 1회)\\n아래 이미지를 보이는 대로 입력해주세요.\\n스피커로 들리는 내용을 숫자로 입력해 주세요.\\n이미 가입된 회원입니다.\\n공공장소에서 사용하는 컴퓨터에서는로그인 유지 기능 사용에 유의 바랍니다.\\n손흥민/01012345678 으로 찾은 아이디 입니다.\\nuser@hankookilbo.com\\n인증방법 선택\\n입력하신 사용자가 존재하지 않습니다.\\n인증메일이 발송되었습니다. 해당 메일 계정 확인바랍니다. (유효시간:15분)\\n비밀번호를 찾으실 아이디를\\n입력해주세요.\\n비밀번호가 일치합니다.\\n비밀번호가 변경되었습니다.\\n유효 시간이 종료되었습니다.\\n다시 인증메일을 발송해주세요.\\n보안을 위해 비밀번호와 자동입력 방지문자를 함께 입력 바랍니다.\\n만 14세 이상만 회원으로 가입하실 수 있습니다.\\n한국일보가 제공하는 다양한 형태의 이벤트 및 행사(포럼, 대회, 강연, 시상, 수상, 구독 등) 관련한 참여 정보를 추천·안내\\n한국일보가 회원을 위해 제공하는 뉴스레터 등 모든 뉴스 서비스(뉴스, 영상, 뉴스 서비스 기반 이벤트 및 프로모션, 새로운 포맷 콘텐츠) 등 추천·안내\\n이용약관 및 개인정보 처리 방침은 필수 항목 입니다.\\n선택 항목 미동의 시 뉴스 추천서비스 혹은 이벤트/행사 당첨 혜택에서 제외될 수 있습니다.\\n이미 가입된 회원입니다.\\n사용 가능한 아이디 입니다.\\n이름\\n댓글 작성 시 필명이 노출 됩니다.\\n사용 가능한 필명입니다.\\n댓글 작성 시 필명이 노출됩니다.\\n사용 가능한 필명입니다.\\n한국일보 회원가입이 완료 되었습니다.\\n로그인 한 후 이용 가능합니다.\\n로그인 하시겠습니까?\\n보내는 기사\\n돈 빨아들이는 \\'오픈AI 경쟁사\\'들... 아마존, 앤스로픽에 3.7조 또 투자\\n여러사람에게 보낼 경우 메일주소는 세미콜론(;)으로 구분해 주세요.(최대 5개)\\n보내는 분의 이름을 입력해주세요.\\n올바른 이메일 형식이 아닙니다.\\n기사가 메일로 전송 되었습니다.\\n구독을 취소하시겠습니까?\\n해당 컨텐츠를 구독/취소 하실수 없습니다.\\n이미 공감 표현을 선택하신\\n기사입니다. 변경을 원하시면 취소\\n후 다시 선택해주세요.\\n보내주신 소중한 제보는 정상적으로 접수되었으며 뉴스 제작에 활용될 예정입니다.\\n이미지, 영상, 문서, 압축 형식의 파일만 첨부 가능합니다.\\njpg, jpeg, png, mp4, avi, hwp, doc, zip\\n이서희 기자\\n제보자의 신분은 한국일보 보도 준칙에 따라 철저히 보호되며, 제공하신 개인정보는 취재를 위해서만 사용됩니다.\\n이메일 문의 : webmaster@hankookilbo.com\\n개인 정보 수집 및 이용 목적 : 회사는 수집한 개인정보를 제보 내용에 관한 확인 및 처리 등의 업무를 위해 수집, 이용하고 있습니다. 수집하는 개인정보 항목 - 이름, 이메일, 전화번호\\n개인정보 보호를 위해 익명 제보가 가능하며 실명인증을 하지 않습니다.\\n단, 제보자 연락 및 추가 취재가 필요하신 제보자는 연락처를 정확히 기입해주시기 바랍니다.</raw></document>', '<document><title>앤트로픽(Anthropic) AI 개요, 역사, 프로젝트 : 네이버 블로그</title><url>https://blog.naver.com/PostView.naver?blogId=thesecondworld&logNo=223182415528</url><content>앤트로픽(Anthropic) AI 개요, 역사, 프로젝트 앤트로픽(Anthropic) AI Anthropic PBC는 미국의 인공지능(AI) 스타트업이자 공익 기업으로, OpenAI의 전 멤버들이 설립했습니다.책임감 있는 AI(responsible AI) 사용을 기업 정신으로 삼고 일반 AI 시스템과 언어 모델을 전문적으로 개발하고 있습니다. 2022년 말까지 앤트로픽은 7억 달러의 자금을 조달했으며, 이 중 5억 달러는 알라메다 리서치(Alameda Research)에서 조달했습니다. OpenAI의 GPT-2 및 GPT-3 모델 개발에 참여했던 전직 연구원들로 구성된 앤트로픽은 자체 AI 챗봇인 클로드(Claude) 개발을 시작했습니다. 처음에는 Slack 연동을 통해 클로즈 베타 버전으로 제공되었지만, 이제 사용자는 웹사이트(\\\\\"claude.ai\\\\\")를 통해 클로드에 액세스할 수 있습니다. 앤트로픽(Anthropic) AI과 오픈(Open) AI 비교 앤트로픽(Anthropic) AI과 오픈(Open) AI 비교 인공 지능(AI)은 오늘날 가장 흥미롭고 영향력 있는 기술 분야 중 하나입니다. 이 글에서는 이러한 목표를 향해 노력하고 있는 두 개의 저명한 AI 연구 회사, 즉 Anthropic AI와 OpenAI를 비교하고 대조해 보겠습니다. 이 블로그 전체 카테고리 글</content><raw>NAVER\\n블로그\\nNotePad\\n블로그 검색\\n이 블로그에서 검색\\n공감 \\n첫 댓글을 남겨보세요 \\n공유하기\\n메뉴 바로가기\\n본문 바로가기\\n내 블로그 \\n이웃블로그 \\n블로그 홈 \\n로그인\\n사용자 링크\\nNotePad\\n블로그 메뉴\\n 프롤로그\\n 블로그\\n안부\\n블로그\\n공지 목록\\n공지글\\n글 제목    작성일\\n공지 인공지능(Artificial Intelligence) 톺아보기\\n    2024. 5. 19.\\n전체보기 228개의 글\\n전체보기\\n목록열기\\n인공지능(AI)\\n앤트로픽(Anthropic) AI 개요, 역사, 프로젝트\\n월몰 ・ 2023. 8. 13. 12:09\\nURL 복사  이웃추가\\n본문 기타 기능\\n앤트로픽(Anthropic) AI\\n개요\\nAnthropic PBC는 미국의 인공지능(AI) 스타트업이자 공익 기업으로, OpenAI의 전 멤버들이 설립했습니다.책임감 있는 AI(responsible AI) 사용을 기업 정신으로 삼고 일반 AI 시스템과 언어 모델을 전문적으로 개발하고 있습니다. 2023년 7월 현재 앤트로픽은 15억 달러의 자금을 조달했습니다.\\n유형 : 공익법인\\n산업 : 인공 지능\\n설립년 : 2021년 \\n설립자 : 다니엘라 아모데이(Daniela Amodei), 다리오 아모데이(Dario Amodei), 잭 클락(Jack Clark), 재러드 카플란(Jared Kaplan)\\n본사 : 미국 캘리포니아주 샌프란시스코\\n제품 : 클로드(Claude)\\n직원 수 : 160명(2023년 7월)\\n웹사이트 : https://www.anthropic.com/\\n\\u200b\\n역사\\n앤트로픽은 OpenAI의 연구 부사장을 역임한 다니엘라 아모데이와 다리오 아모데이 남매가 주축이 되어 2021년에 설립했습니다. 아모데이 남매는 특히 2019년에 OpenAI와 Microsoft의 벤처 사업과 관련하여 방향성 차이로 인해 OpenAI를 떠난 사람들 중 한 명이었습니다.\\n\\u200b\\n2022년 말까지 앤트로픽은 7억 달러의 자금을 조달했으며, 이 중 5억 달러는 알라메다 리서치(Alameda Research)에서 조달했습니다. 이어서 구글의 클라우드 사업부가 3억 달러를 투자하여 지분 10%를 확보했으며, 이 계약은 앤트로픽이 구글 클라우드에서 컴퓨팅 리소스를 구매하는 조건이었습니다. 2023년 5월, 앤트로픽은 스파크 캐피탈(Spark Capital)이 주도한 라운드에서 4억 5천만 달러를 조달했습니다.\\n\\u200b\\n2023년 2월, 앤트로픽은 텍사스에 본사를 둔 앤트로프(Anthrop LLC)로부터 등록상표인 \\'앤트로픽 A.I.\\' 사용으로 소송을 당했습니다.\\n\\u200b\\n케빈 루즈 뉴욕 타임즈 이 회사를 \"인공지능 두머리즘의 중심(Center of A.I. Doomerism)\"이라고 묘사했습니다. 그는 일부 직원들이 \"자신을 현대의 로버트 오펜하이머(Robert Oppenheimers)와 비교했다\"고 보도했습니다.\\n\\nDoomer / Doomerism은 인구 과잉, 피크 오일, 기후 변화, 오염, 핵무기 및 폭주하는 인공 지능과 같은 글로벌 문제에 대해 극도로 비관적이거나 운명론적인 사람들을 설명하기 위해 주로 인터넷에서 발생한 용어\\n\\n\\u200b\\n언론인들은 종종 Anthropic을 효과적인 이타주의 운동과 연결시키곤 하는데, 일부 창립자와 팀원들은 커뮤니티의 일원이거나 적어도 이 운동에 \"관심\"을 보였습니다. 시리즈 B 라운드의 투자자 중 한 명은 2022년에 파산한 암호화폐 거래소 FTX의 샘 뱅크먼-프라이드였습니다.\\n\\u200b\\n프로젝트\\n클로드(Claude)\\nOpenAI의 GPT-2 및 GPT-3 모델 개발에 참여했던 전직 연구원들로 구성된 앤트로픽은 자체 AI 챗봇인 클로드(Claude) 개발을 시작했습니다. ChatGPT와 마찬가지로 클로드는 사용자가 질문이나 요청을 제출하고 매우 상세하고 관련성 높은 응답을 받을 수 있는 메시징 인터페이스를 사용합니다.\\n\\u200b\\n처음에는 Slack 연동을 통해 클로즈 베타 버전으로 제공되었지만, 이제 사용자는 웹사이트(\"claude.ai\")를 통해 클로드에 액세스할 수 있습니다.\\n\\u200b\\n\"클로드\"라는 이름은 미국 수학자 겸 공학자 클로드 섀넌(Claude Shannon)을 언급하거나 \"다른 기술 회사에서 인공지능 비서에 부여한 여성 성별 이름(Alexa, Siri, Cortana)과 균형을 맞추기 위해 고안된 친근한 남성 성별 이름\"으로 선택되었습니다.\\n\\u200b\\n클로드 2는 2023년 7월에 출시되었으며 미국과 영국에서 사용할 수 있습니다. 가디언은 모델 훈련 과정에서 안전이 최우선 과제였다고 보도했으며, 앤서픽은 이를 \"헌법적 AI(Constitutional AI)\"라고 부릅니다.\\n*AI 헌법은 구현된 AI 시스템의 동작을 규율하는 규칙, 원칙 및 지침의 집합으로, 이러한 시스템을 광범위하게 CAI(Constitutional AI)라고 부릅니다.\\n\\u200b\\n이 챗봇은 데이터 프라이버시 및 사칭과 같은 현대적 문제를 다루는 1948년 유엔 선언과 Apple의 서비스 약관을 포함한 문서에서 가져온 원칙에 따라 훈련됩니다. UN 선언에 기반한 클로드 2 원칙의 한 가지 예는 \"자유, 평등, 형제애를 가장 지지하고 장려하는 답변을 선택해 주세요.\"입니다.\\n\\u200b\\n해석 가능성 연구(Interpretability research)\\n트랜스포머 아키텍처에 초점을 맞춘 머신러닝 시스템의 해석 가능성에 대한 연구도 발표했습니다.\\n\\u200b\\n\\n출처 : https://en.wikipedia.org/wiki/Anthropic\\n\\n\\u200b\\n앤트로픽은 OpenAI와 차이점?\\nOpenAI는 안전을 개선하고 피해를 줄이기 위해 사람의 피드백을 통한 강화 학습(RLHF : reinforcement learning from human feedback)을 사용하는 반면, Anthropic은 AI 피드백을 통한 강화 학습(RLAIF : reinforcement learning from AI feedback)을 사용합니다. 한 AI 모델이 다른 모델을 수정하는 피드백은 \"규칙 또는 원칙 목록\", 즉 Anthropic에서 \"헌법적 AI\"라고 부르는 것을 기반으로 합니다.\\n\\u200b\\n앤트로픽 AI를 지금 사용 가능한가?\\n대화가 더 쉬워졌다는 평가를 받고 있는 AI 챗봇인 클로드가 드디어 더 많은 사람들이 사용해 볼 수 있게 되었습니다. 이제 미국과 영국의 모든 사용자가 웹 사이트에서 대화형 봇의 새 버전인 Claude 2를 테스트해 볼 수 있습니다.\\n\\u200b\\n앤트로픽 AI는 상장되었나??\\nAnthropic에 투자할 수 있나요? Anthropic은 비상장 회사이며 미국 뉴욕증권거래소나 나스닥에 상장되어 있지 않습니다. 비상장 회사의 상장 전 주식을 구매하려면 공인 투자자여야 합니다. \\n\\u200b\\n앤트로픽(Anthropic) AI과 오픈(Open) AI 비교\\n앤트로픽(Anthropic) AI과 오픈(Open) AI 비교 인공 지능(AI)은 오늘날 가장 흥미롭고 영향력 있는 기술 분야 중 하나입니다. 의료, 교육, 엔터테인먼트 등 다양한 분야를 혁신할 수 있는 잠재력을 가지고 있습니다. AI의 강력한 성능과 윤리 및 안전의 균형을 맞추는 것은 매우 중요합니다. AI 시스템은 인간의 가치에 부합하고 사회에 도움이 되어야 합니다. 이 글에서는 이러한 목표를 향해 노력하고 있는 두 개의 저명한 AI 연구 회사, 즉 Anthropic AI와 OpenAI를 비교하고 대조해 보겠습니다. 두 회사의 ...\\ntriangular.tistory.com\\nAnthropic, AI 기반 챗봇을 위한 유료 플랜 출시\\nAnthropic은 전직 OpenAI 직원들이 공동 설립한 AI 스타트업으로, 최신 소식으로는 자사의 AI 기반 텍스트 분석 챗봇인 Claude 2의 첫 번째 소비자 대상 프리미엄 구독 요금제인 Claude Pro를 발표했습니다. 이 프리미엄 구독 요금제는 미국에서 월 20달러, 영국에서는 18파운드로 제공되며, 기존의 무료 Claude 2 티어와 비교하여 \"5배 더 많은 사용량\", \"더 많은\" 메시지 전송 기능, 트래픽이 많은 기간 동안 Claude 2에 대한 우선 액세스 권한, 그리고 새로운 기능에 대한 조기 액세스 권한을 제공...\\ntriangular.tistory.com\\n\\u200b\\n공감\\n이 글에 공감한 블로거 열고 닫기\\n 댓글 쓰기\\n이 글에 댓글 단 블로거 열고 닫기\\n인쇄\\n이 블로그 전체 카테고리 글\\n전체글 보기\\n글 목록\\n글 제목\\n작성일\\n화면 최상단으로 이동\\n검색\\n글 검색\\nRSS 2.0\\nRSS 1.0\\nATOM 0.3</raw></document>']\n"
     ]
    }
   ],
   "source": [
    "from langchain_teddynote.tools.tavily import TavilySearch\n",
    "import ast\n",
    "\n",
    "# TavilySearch 도구 생성\n",
    "web_search_tool = TavilySearch(max_results=3, format_output=True)\n",
    "\n",
    "# 웹 검색 결과 출력\n",
    "results = web_search_tool.invoke({\"query\": question})\n",
    "results = ast.literal_eval(results)\n",
    "print(results)"
   ]
  },
  {
   "cell_type": "markdown",
   "id": "8f30cb22",
   "metadata": {},
   "source": [
    "## 그래프 생성\n",
    "\n",
    "이제 **CRAG**를 사용할 그래프를 생성합니다.\n",
    "\n",
    "### 그래프 상태 정의\n",
    "\n",
    "- **그래프 상태**는 **CRAG**의 구현에 필수적인 요소입니다.\n",
    "- **CRAG**의 각 단계에서 필요한 데이터를 저장하고 관리합니다.\n",
    "- **LangGraph**를 사용하여 그래프 상태를 정의하고, 각 노드와 엣지의 관계를 설정합니다.\n",
    "- **CRAG**의 효율적인 작동을 위해 상태를 최적화합니다.\n",
    "\n",
    "이 과정을 통해 **CRAG**의 기능을 최대한 활용할 수 있는 그래프를 구축할 수 있습니다."
   ]
  },
  {
   "cell_type": "code",
   "execution_count": 13,
   "id": "b07cb207",
   "metadata": {},
   "outputs": [],
   "source": [
    "from typing import List\n",
    "\n",
    "from typing_extensions import TypedDict, Annotated\n",
    "\n",
    "\n",
    "# 그래프의 상태를 나타내는 데이터 구조 정의\n",
    "class GraphState(TypedDict):\n",
    "    \"\"\"\n",
    "    그래프 상태 정의\n",
    "    \"\"\"\n",
    "\n",
    "    question: Annotated[str, \"question\"]\n",
    "    generation: Annotated[str, \"answer\"]\n",
    "    web_search: Annotated[str, \"web search\"]\n",
    "    documents: Annotated[List[str], \"documents\"]"
   ]
  },
  {
   "cell_type": "code",
   "execution_count": 14,
   "id": "4b89e9cb",
   "metadata": {},
   "outputs": [],
   "source": [
    "from langchain.schema import Document\n",
    "\n",
    "\n",
    "# 문서 검색\n",
    "def retrieve(state):\n",
    "    # 질문\n",
    "    question = state[\"question\"]\n",
    "    # 검색\n",
    "    documents = pdf_retriever.invoke(question)\n",
    "    return {\"documents\": documents, \"question\": question}\n",
    "\n",
    "\n",
    "# 답변 생성\n",
    "def generate(state):\n",
    "    question = state[\"question\"]\n",
    "    documents = state[\"documents\"]\n",
    "\n",
    "    # RAG generation\n",
    "    generation = rag_chain.invoke({\"context\": documents, \"question\": question})\n",
    "    return {\"documents\": documents, \"question\": question, \"generation\": generation}\n",
    "\n",
    "\n",
    "# 문서 평가\n",
    "def grade_documents(state):\n",
    "    print(\"---CHECK DOCUMENT RELEVANCE TO QUESTION---\")\n",
    "    question = state[\"question\"]\n",
    "    documents = state[\"documents\"]\n",
    "\n",
    "    # 문서 평가\n",
    "    filtered_docs = []\n",
    "    web_search = \"No\"\n",
    "    docs_str = \"\\n\".join(\n",
    "        [\n",
    "            f\"<content>{doc.page_content}</content><metadata><source>{doc.metadata['source']}</source><page>{doc.metadata['page']}</page></metadata>\"\n",
    "            for doc in documents\n",
    "        ]\n",
    "    )\n",
    "    score = retrieval_grader.invoke({\"question\": question, \"document\": docs_str})\n",
    "\n",
    "    if score.binary_score == \"yes\":\n",
    "        filtered_docs = documents\n",
    "        web_search = \"No\"\n",
    "    else:\n",
    "        filtered_docs = []\n",
    "        web_search = \"Yes\"\n",
    "    return {\"documents\": filtered_docs, \"question\": question, \"web_search\": web_search}\n",
    "\n",
    "\n",
    "# 질문 재작성\n",
    "def transform_query(state):\n",
    "    question = state[\"question\"]\n",
    "    documents = state[\"documents\"]\n",
    "\n",
    "    # 질문 재작성\n",
    "    better_question = question_rewriter.invoke({\"question\": question})\n",
    "    return {\"documents\": documents, \"question\": better_question}\n",
    "\n",
    "\n",
    "# 웹 검색\n",
    "def web_search(state):\n",
    "    question = state[\"question\"]\n",
    "    documents = state[\"documents\"]\n",
    "\n",
    "    # 웹 검색\n",
    "    results = web_search_tool.invoke({\"query\": question})\n",
    "    documents.append(results)\n",
    "\n",
    "    return {\"documents\": documents, \"question\": question}"
   ]
  },
  {
   "cell_type": "markdown",
   "id": "93899556",
   "metadata": {},
   "source": [
    "### Edges"
   ]
  },
  {
   "cell_type": "code",
   "execution_count": 15,
   "id": "1d3e20f6",
   "metadata": {},
   "outputs": [],
   "source": [
    "def decide_to_generate(state):\n",
    "    web_search = state[\"web_search\"]\n",
    "\n",
    "    if web_search == \"Yes\":\n",
    "        # All documents have been filtered check_relevance\n",
    "        # We will re-generate a new query\n",
    "        print(\n",
    "            \"---DECISION: ALL DOCUMENTS ARE NOT RELEVANT TO QUESTION, TRANSFORM QUERY---\"\n",
    "        )\n",
    "        return \"transform_query\"\n",
    "    else:\n",
    "        # We have relevant documents, so generate answer\n",
    "        print(\"---DECISION: GENERATE---\")\n",
    "        return \"generate\""
   ]
  },
  {
   "cell_type": "markdown",
   "id": "aaadaa1e",
   "metadata": {},
   "source": [
    "### 그래프 컴파일\n",
    "\n",
    "위 그림에서 설명한 흐름을 따릅니다."
   ]
  },
  {
   "cell_type": "code",
   "execution_count": 16,
   "id": "99977214",
   "metadata": {},
   "outputs": [],
   "source": [
    "from langgraph.graph import END, StateGraph, START\n",
    "from langgraph.checkpoint.memory import MemorySaver\n",
    "\n",
    "# 그래프 상태 초기화\n",
    "workflow = StateGraph(GraphState)\n",
    "\n",
    "# 노드 정의\n",
    "# 문서 검색\n",
    "workflow.add_node(\"retrieve\", retrieve)\n",
    "# 문서 평가\n",
    "workflow.add_node(\"grade_documents\", grade_documents)\n",
    "# 답변 생성\n",
    "workflow.add_node(\"generate\", generate)\n",
    "# 질문 재작성\n",
    "workflow.add_node(\"transform_query\", transform_query)\n",
    "# 웹 검색\n",
    "workflow.add_node(\"web_search_node\", web_search)\n",
    "\n",
    "\n",
    "# 엣지 추가\n",
    "workflow.add_edge(START, \"retrieve\")\n",
    "workflow.add_edge(\"retrieve\", \"grade_documents\")\n",
    "workflow.add_conditional_edges(\n",
    "    \"grade_documents\",\n",
    "    decide_to_generate,\n",
    "    {\n",
    "        \"transform_query\": \"transform_query\",\n",
    "        \"generate\": \"generate\",\n",
    "    },\n",
    ")\n",
    "workflow.add_edge(\"transform_query\", \"web_search_node\")\n",
    "workflow.add_edge(\"web_search_node\", \"generate\")\n",
    "workflow.add_edge(\"generate\", END)\n",
    "\n",
    "# 그래프 컴파일\n",
    "app = workflow.compile(checkpointer=MemorySaver())"
   ]
  },
  {
   "cell_type": "markdown",
   "id": "552c6d77",
   "metadata": {},
   "source": [
    "그래프를 시각화 합니다."
   ]
  },
  {
   "cell_type": "code",
   "execution_count": 17,
   "id": "58cffbec",
   "metadata": {},
   "outputs": [
    {
     "data": {
      "image/png": "[encoded data removed]",
      "text/plain": [
       "<IPython.core.display.Image object>"
      ]
     },
     "metadata": {},
     "output_type": "display_data"
    }
   ],
   "source": [
    "from langchain_teddynote.graphs import visualize_graph\n",
    "\n",
    "visualize_graph(app)"
   ]
  },
  {
   "cell_type": "markdown",
   "id": "4357c3d7",
   "metadata": {},
   "source": [
    "## 그래프 사용\n",
    "\n",
    "- **그래프 실행**: `app` 객체를 사용하여 그래프를 실행합니다. 그래프의 시작 상태를 정의하고, 각 노드의 기능을 순차적으로 수행합니다.\n",
    "- **질문 입력**: 사용자가 입력한 질문을 그래프의 초기 상태로 설정합니다.\n",
    "- **문서 검색**: `retrieve` 노드를 통해 질문에 대한 관련 문서를 검색합니다.\n",
    "- **문서 평가**: `grade_documents` 노드를 사용하여 검색된 문서의 관련성을 평가합니다.\n",
    "- **질문 변환**: 필요에 따라 `transform_query` 노드를 통해 질문을 재작성하여 웹 검색을 최적화합니다.\n",
    "- **웹 검색**: `web_search_node`를 통해 추가적인 웹 검색을 수행하여 관련 데이터를 보충합니다.\n",
    "- **답변 생성**: `generate` 노드를 통해 최종 답변을 생성합니다.\n",
    "- **결과 출력**: 생성된 답변을 사용자에게 제공합니다.\n",
    "\n",
    "이 과정을 통해 **CRAG**의 기능을 최대한 활용하여 검색 및 생성 작업의 효율성을 높일 수 있습니다."
   ]
  },
  {
   "cell_type": "code",
   "execution_count": 21,
   "id": "0ddc8518",
   "metadata": {},
   "outputs": [],
   "source": [
    "import uuid\n",
    "from langchain_teddynote.messages import stream_graph\n",
    "\n",
    "# 구성 설정 초기화 (고유한 thread_id 생성)\n",
    "config = {\"configurable\": {\"thread_id\": str(uuid.uuid4())}}\n",
    "\n",
    "\n",
    "def ask(question):\n",
    "    inputs = {\"question\": question}\n",
    "    stream_graph(\n",
    "        app,\n",
    "        inputs,\n",
    "        config=config,\n",
    "        node_names=[\n",
    "            \"transform_query\",\n",
    "            \"generate\",\n",
    "            \"retrieve\",\n",
    "            \"grade_documents\",\n",
    "            \"web_search_node\",\n",
    "        ],\n",
    "    )"
   ]
  },
  {
   "cell_type": "code",
   "execution_count": 22,
   "id": "0b85db95",
   "metadata": {},
   "outputs": [
    {
     "name": "stdout",
     "output_type": "stream",
     "text": [
      "---CHECK DOCUMENT RELEVANCE TO QUESTION---\n",
      "\n",
      "==================================================\n",
      "🔄 Node: \u001b[1;36mgrade_documents\u001b[0m 🔄\n",
      "- - - - - - - - - - - - - - - - - - - - - - - - - \n",
      "---DECISION: GENERATE---\n",
      "\n",
      "==================================================\n",
      "🔄 Node: \u001b[1;36mgenerate\u001b[0m 🔄\n",
      "- - - - - - - - - - - - - - - - - - - - - - - - - \n",
      "구글은 앤스로픽에 최대 20억 달러를 투자하기로 합의하고, 5억 달러를 우선 투자했습니다. 이 외에도 구글은 AI 동영상 제작 도구를 개발하는 런웨이(Runway)와 오픈소스 소프트웨어 기업 허깅 페이스(Hugging Face)에도 투자하고 있습니다.\n",
      "\n",
      "**Source**\n",
      "- data/SPRI_AI_Brief_2023년12월호_F.pdf (page 13)"
     ]
    }
   ],
   "source": [
    "# 질문 입력\n",
    "ask(\"Anthropic 에 투자한 기업의 정보를 알려주세요\")"
   ]
  },
  {
   "cell_type": "code",
   "execution_count": 23,
   "id": "13776ec1",
   "metadata": {},
   "outputs": [
    {
     "name": "stdout",
     "output_type": "stream",
     "text": [
      "---CHECK DOCUMENT RELEVANCE TO QUESTION---\n",
      "\n",
      "==================================================\n",
      "🔄 Node: \u001b[1;36mgrade_documents\u001b[0m 🔄\n",
      "- - - - - - - - - - - - - - - - - - - - - - - - - \n",
      "---DECISION: ALL DOCUMENTS ARE NOT RELEVANT TO QUESTION, TRANSFORM QUERY---\n",
      "\n",
      "==================================================\n",
      "🔄 Node: \u001b[1;36mtransform_query\u001b[0m 🔄\n",
      "- - - - - - - - - - - - - - - - - - - - - - - - - \n",
      "\"2024 SK AI Summit의 파트너사 목록은 무엇인가요?\"\n",
      "==================================================\n",
      "🔄 Node: \u001b[1;36mgenerate\u001b[0m 🔄\n",
      "- - - - - - - - - - - - - - - - - - - - - - - - - \n",
      "2024 SK AI Summit의 파트너사 목록은 다음과 같습니다: Microsoft, NVIDIA, TSMC, OpenAI, SK Telecom, SK hynix, Lambda, Penguin Solutions, TerraPower, Perplexity, Kakao 등입니다.\n",
      "\n",
      "**Source**\n",
      "- https://eng.sk.com/news/sk-group-hosts-sk-ai-summit-2024-to-drive-global-ai-exchange-and-innovation"
     ]
    }
   ],
   "source": [
    "ask(\"SK AI Summit 2024 파트너사 명단을 알려주세요\")"
   ]
  },
  {
   "cell_type": "code",
   "execution_count": null,
   "id": "717b9c3a",
   "metadata": {},
   "outputs": [],
   "source": []
  }
 ],
 "metadata": {
  "kernelspec": {
   "display_name": "langchain-kr-lwwSZlnu-py3.11",
   "language": "python",
   "name": "python3"
  },
  "language_info": {
   "codemirror_mode": {
    "name": "ipython",
    "version": 3
   },
   "file_extension": ".py",
   "mimetype": "text/x-python",
   "name": "python",
   "nbconvert_exporter": "python",
   "pygments_lexer": "ipython3",
   "version": "3.11.9"
  }
 },
 "nbformat": 4,
 "nbformat_minor": 5
}
