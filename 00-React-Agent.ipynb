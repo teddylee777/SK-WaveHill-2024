{
 "cells": [
  {
   "cell_type": "code",
   "execution_count": 1,
   "metadata": {},
   "outputs": [
    {
     "data": {
      "text/plain": [
       "True"
      ]
     },
     "execution_count": 1,
     "metadata": {},
     "output_type": "execute_result"
    }
   ],
   "source": [
    "# API 키를 환경변수로 관리하기 위한 설정 파일\n",
    "from dotenv import load_dotenv\n",
    "\n",
    "# API 키 정보 로드\n",
    "load_dotenv()"
   ]
  },
  {
   "cell_type": "code",
   "execution_count": 2,
   "metadata": {},
   "outputs": [
    {
     "name": "stdout",
     "output_type": "stream",
     "text": [
      "LangSmith 추적을 시작합니다.\n",
      "[프로젝트명]\n",
      "CH15-React-Agent\n"
     ]
    }
   ],
   "source": [
    "# LangSmith 추적을 설정합니다. https://smith.langchain.com\n",
    "# !pip install -qU langchain-teddynote\n",
    "from langchain_teddynote import logging\n",
    "\n",
    "# 프로젝트 이름을 입력합니다.\n",
    "logging.langsmith(\"CH15-React-Agent\")"
   ]
  },
  {
   "cell_type": "markdown",
   "metadata": {},
   "source": [
    "## React Agent\n",
    "\n",
    "![](assets/agent.png)"
   ]
  },
  {
   "cell_type": "code",
   "execution_count": 3,
   "metadata": {},
   "outputs": [],
   "source": [
    "from langchain_openai import ChatOpenAI\n",
    "from langchain_teddynote.tools.tavily import TavilySearch\n",
    "from langchain_core.messages import HumanMessage\n",
    "from langgraph.checkpoint.memory import MemorySaver\n",
    "from langgraph.prebuilt import create_react_agent\n",
    "\n",
    "# 메모리 설정\n",
    "memory = MemorySaver()\n",
    "\n",
    "# 모델 설정\n",
    "model = ChatOpenAI(model_name=\"gpt-4o-mini\")"
   ]
  },
  {
   "cell_type": "markdown",
   "metadata": {},
   "source": [
    "## 도구 설정"
   ]
  },
  {
   "cell_type": "markdown",
   "metadata": {},
   "source": [
    "### 웹 검색\n"
   ]
  },
  {
   "cell_type": "code",
   "execution_count": 4,
   "metadata": {},
   "outputs": [],
   "source": [
    "from langchain_teddynote.tools.tavily import TavilySearch\n",
    "\n",
    "\n",
    "web_search = TavilySearch(\n",
    "    topic=\"general\",  # 뉴스 주제 (general 또는 news)\n",
    "    max_results=5,  # 최대 검색 결과\n",
    "    include_answer=False,\n",
    "    include_raw_content=False,\n",
    "    include_images=False,\n",
    "    format_output=False,  # 결과 포맷팅\n",
    ")\n",
    "\n",
    "web_search.name = \"web_search\"\n",
    "web_search.description = (\n",
    "    \"Use this tool to search on the web for any topic other than news.\"\n",
    ")"
   ]
  },
  {
   "cell_type": "code",
   "execution_count": 5,
   "metadata": {},
   "outputs": [
    {
     "name": "stdout",
     "output_type": "stream",
     "text": [
      "[{'title': \"SKT to Host Large-Scale 'SK AI Summit 2024' at COEX in Seoul Next Month\", 'url': 'http://www.koreaittimes.com/news/articleView.html?idxno=135066', 'content': \"A major AI summit, featuring numerous international and domestic AI experts and entrepreneurs, will be held in Seoul this November.SK Telecom (SKT) announced on October 7th that they will be hosting the 'SK AI Summit 2024' from November 4th to 5th at COEX in Gangnam, Seoul.The summit will br\", 'score': 0.9995876, 'raw_content': None}, {'title': '[SK AI Summit 2024] \"AI TOMORROW, AI TOGETHER\" SK AI SUMMIT 2024, 글로벌 ...', 'url': 'https://news.sktelecom.com/208288', 'content': '[SK AI Summit 2024] “AI TOMORROW, AI TOGETHER” SK AI SUMMIT 2024, 글로벌 AI 기술의 장 – SK텔레콤 뉴스룸 SK텔레콤 뉴스룸 | [SK AI Summit 2024] “AI TOMORROW, AI TOGETHER” SK AI SUMMIT 2024, 글로벌 AI 기술의 장 [SK AI Summit 2024] “AI TOMORROW, AI TOGETHER” SK AI SUMMIT 2024, 글로벌 AI 기술의 장 SK AI SUMMIT SK 전시 부스에 위치한 AIDC 모습을 한 전시존 SK AI SUMMIT SKT A.X 전시 부스에서 설명을 듣고 있는 참관객 SK AI SUMMIT SKT A. SK AI SUMMIT 전시장에 위치한 마이크로소프트(Microsoft) 전시 부스 SK AI SUMMIT 딥 다이브존에서 진행된 슈카와 궤도의 특별 대담 #SK AI SUMMIT #SK_AI AI [SK AI Summit 2024] 협력으로 만들어가는 AI 생태계 : AI Tomorrow, AI Together – 최태원 회장 KEYNOTE 2024.11.04', 'score': 0.9994023, 'raw_content': None}, {'title': 'SK AI Summit 2024: AI TOGETHER, AI TOMORROW - thebasics.tistory.com', 'url': 'https://thebasics.tistory.com/271', 'content': \"SK 그룹의 AI 전략 SK 그룹의 AI 기술: AI 데이터센터 기술, AI 반도체 및 인프라, AI 개인 비서 서비스 등 다양한 AI 솔루션을 선보였습니다. 특히, 이번 서밋에서는 에너지, 반도체, 통신 등 다양한 산업이 AI를 통해 효율화되고 있음을 실감할 수 있었으며, SK 그룹의 AI 전략과 글로벌 협력 비전을 엿볼 수 있었습니다. Key Highlights of SK AI Summit 2024 SK Group’s AI Strategy Key Highlights of SK AI Summit 2024 2.2 SK Group’s AI Strategy The summit’s keynotes, presentations, and panel discussions emphasized AI’s transformative potential and SK Group's collaborative vision for the future. sk ai summit Java, 자바, 기초 수학, 안드로이드, Python, 튜토리얼, 대수학, 서적 리뷰, 수학, AI, 보안, 기하학, 티스토리챌린지, 머신러닝, 오블완, 수리논리학, 미적분학, 블록체인, 개발자 팁, php,\", 'score': 0.99923277, 'raw_content': None}, {'title': \"SK Group Hosts 'SK AI Summit 2024' to Drive Global AI Exchange and ...\", 'url': 'https://eng.sk.com/news/sk-group-hosts-sk-ai-summit-2024-to-drive-global-ai-exchange-and-innovation', 'content': 'SEOUL, November 4, 2024 –\\xa0SK Group Chairman Tae-won Chey expressed his ambition to strengthen the global Artificial Intelligence (AI) ecosystem by combining SK’s AI capabilities with partnerships across domestic and international companies. The event, running until Tuesday under the theme “AI Together, AI Tomorrow,” is the largest AI symposium in Korea organized by SK Group, the second-largest conglomerate in Korea with global leading businesses in semiconductors, telecommunications, energy and life sciences. “Congratulations to Chairman Tony Chey and the SK Group team for making this incredible event happen and gathering global AI leaders together to shape the future of AI,” said TSMC Chairman & CEO C.C. Wei.', 'score': 0.9988531, 'raw_content': None}, {'title': 'Ai의 무궁무진한 미래를 직접 경험할 수 있는 곳, Sk Ai Summit 2024로의 초대', 'url': 'https://www.skcareersjournal.com/3344', 'content': 'AI의 무궁무진한 미래를 직접 경험할 수 있는 곳, SK AI SUMMIT 2024로의 초대💌 AI의 무궁무진한 미래를 직접 경험할 수 있는 곳, SK AI SUMMIT 2024로의 초대💌\\xa0 AI의 현재와 미래를 확인하고, 더 깊이 있는 AI 경험을 하실 수 있는 이번 SK AI SUMMIT 2024에 여러분 모두를 초대합니다! 이번 서밋은 AI 생태계에 대한 심도 있는 논의뿐만 아니라, 실질적인 기술 발전 방향을 직접 체험할 수 있는 아주 좋은 기회가 될 것입니다! 이야기를 듣고 나니, 이번 서밋이 AI의 현재와 미래를 심도 있게 다루는 다양한 세션과 글로벌 리더들의 통찰을 직접 경험할 수 있는 귀중한 자리라는 점에서, 곧 열릴 행사가 더욱 기대되는 것 같습니다. AI의 무한한 가능성을 함께 경험하고, 미래를 준비할 수 있는 소중한 시간이 될 SK AI SUMMIT 2024에 많은 관심과 참여 부탁드립니다.', 'score': 0.998844, 'raw_content': None}]\n"
     ]
    }
   ],
   "source": [
    "result = web_search.search(\"SK AI SUMMIT 2024 관련된 정보를 찾아줘\")\n",
    "print(result)"
   ]
  },
  {
   "cell_type": "markdown",
   "metadata": {},
   "source": [
    "### 파일 관리\n"
   ]
  },
  {
   "cell_type": "code",
   "execution_count": 6,
   "metadata": {},
   "outputs": [],
   "source": [
    "from langchain_community.agent_toolkits import FileManagementToolkit\n",
    "\n",
    "# 'tmp'라는 이름의 디렉토리를 작업 디렉토리로 설정합니다.\n",
    "working_directory = \"tmp\"\n",
    "\n",
    "# FileManagementToolkit 객체를 생성합니다.\n",
    "file_management_tools = FileManagementToolkit(\n",
    "    root_dir=str(working_directory),\n",
    ").get_tools()"
   ]
  },
  {
   "cell_type": "code",
   "execution_count": 7,
   "metadata": {},
   "outputs": [
    {
     "data": {
      "text/plain": [
       "[CopyFileTool(root_dir='tmp'),\n",
       " DeleteFileTool(root_dir='tmp'),\n",
       " FileSearchTool(root_dir='tmp'),\n",
       " MoveFileTool(root_dir='tmp'),\n",
       " ReadFileTool(root_dir='tmp'),\n",
       " WriteFileTool(root_dir='tmp'),\n",
       " ListDirectoryTool(root_dir='tmp')]"
      ]
     },
     "execution_count": 7,
     "metadata": {},
     "output_type": "execute_result"
    }
   ],
   "source": [
    "# 파일 관리 도구 출력\n",
    "file_management_tools"
   ]
  },
  {
   "cell_type": "markdown",
   "metadata": {},
   "source": [
    "## Retriever 도구"
   ]
  },
  {
   "cell_type": "code",
   "execution_count": 8,
   "metadata": {},
   "outputs": [],
   "source": [
    "from langchain.text_splitter import RecursiveCharacterTextSplitter\n",
    "from langchain_community.vectorstores import FAISS\n",
    "from langchain_openai import OpenAIEmbeddings\n",
    "from langchain.document_loaders import PDFPlumberLoader\n",
    "\n",
    "# PDF 파일 로드. 파일의 경로 입력\n",
    "loader = PDFPlumberLoader(\"data/SPRI_AI_Brief_2023년12월호_F.pdf\")\n",
    "\n",
    "# 텍스트 분할기를 사용하여 문서를 분할합니다.\n",
    "text_splitter = RecursiveCharacterTextSplitter(chunk_size=1000, chunk_overlap=100)\n",
    "\n",
    "# 문서를 로드하고 분할합니다.\n",
    "split_docs = loader.load_and_split(text_splitter)\n",
    "\n",
    "# VectorStore를 생성합니다.\n",
    "vector = FAISS.from_documents(split_docs, OpenAIEmbeddings())\n",
    "\n",
    "# Retriever를 생성합니다.\n",
    "pdf_retriever = vector.as_retriever()"
   ]
  },
  {
   "cell_type": "code",
   "execution_count": 9,
   "metadata": {},
   "outputs": [],
   "source": [
    "from langchain_core.tools.retriever import create_retriever_tool\n",
    "from langchain_core.prompts import PromptTemplate\n",
    "\n",
    "# PDF 문서를 기반으로 검색 도구 생성\n",
    "retriever_tool = create_retriever_tool(\n",
    "    pdf_retriever,\n",
    "    \"pdf_retriever\",\n",
    "    \"Search and return information about SPRI AI Brief PDF file. It contains useful information on recent AI trends. The document is published on Dec 2023.\",\n",
    "    document_prompt=PromptTemplate.from_template(\n",
    "        \"<document><context>{page_content}</context><metadata><source>{source}</source><page>{page}</page></metadata></document>\"\n",
    "    ),\n",
    ")"
   ]
  },
  {
   "cell_type": "markdown",
   "metadata": {},
   "source": [
    "도구 목록을 정의합니다."
   ]
  },
  {
   "cell_type": "code",
   "execution_count": 10,
   "metadata": {},
   "outputs": [
    {
     "data": {
      "text/plain": [
       "[TavilySearch(name='web_search', description='Use this tool to search on the web for any topic other than news.', client=<tavily.tavily.TavilyClient object at 0x15832bc90>, max_results=5, include_raw_content=False),\n",
       " CopyFileTool(root_dir='tmp'),\n",
       " DeleteFileTool(root_dir='tmp'),\n",
       " FileSearchTool(root_dir='tmp'),\n",
       " MoveFileTool(root_dir='tmp'),\n",
       " ReadFileTool(root_dir='tmp'),\n",
       " WriteFileTool(root_dir='tmp'),\n",
       " ListDirectoryTool(root_dir='tmp'),\n",
       " Tool(name='pdf_retriever', description='Search and return information about SPRI AI Brief PDF file. It contains useful information on recent AI trends. The document is published on Dec 2023.', args_schema=<class 'langchain_core.tools.retriever.RetrieverInput'>, func=functools.partial(<function _get_relevant_documents at 0x13fab5da0>, retriever=VectorStoreRetriever(tags=['FAISS', 'OpenAIEmbeddings'], vectorstore=<langchain_community.vectorstores.faiss.FAISS object at 0x13f286f90>, search_kwargs={}), document_prompt=PromptTemplate(input_variables=['page', 'page_content', 'source'], input_types={}, partial_variables={}, template='<document><context>{page_content}</context><metadata><source>{source}</source><page>{page}</page></metadata></document>'), document_separator='\\n\\n'), coroutine=functools.partial(<function _aget_relevant_documents at 0x1580b4c20>, retriever=VectorStoreRetriever(tags=['FAISS', 'OpenAIEmbeddings'], vectorstore=<langchain_community.vectorstores.faiss.FAISS object at 0x13f286f90>, search_kwargs={}), document_prompt=PromptTemplate(input_variables=['page', 'page_content', 'source'], input_types={}, partial_variables={}, template='<document><context>{page_content}</context><metadata><source>{source}</source><page>{page}</page></metadata></document>'), document_separator='\\n\\n'))]"
      ]
     },
     "execution_count": 10,
     "metadata": {},
     "output_type": "execute_result"
    }
   ],
   "source": [
    "tools = [web_search, *file_management_tools, retriever_tool]\n",
    "tools"
   ]
  },
  {
   "cell_type": "markdown",
   "metadata": {},
   "source": [
    "## 에이전트 생성"
   ]
  },
  {
   "cell_type": "code",
   "execution_count": 11,
   "metadata": {},
   "outputs": [],
   "source": [
    "from langgraph.prebuilt import create_react_agent\n",
    "\n",
    "agent_executor = create_react_agent(model, tools, checkpointer=memory)"
   ]
  },
  {
   "cell_type": "markdown",
   "metadata": {},
   "source": [
    "에이전트를 시각화 합니다."
   ]
  },
  {
   "cell_type": "code",
   "execution_count": 12,
   "metadata": {},
   "outputs": [
    {
     "data": {
      "image/png": "[encoded data removed]",
      "text/plain": [
       "<IPython.core.display.Image object>"
      ]
     },
     "metadata": {},
     "output_type": "display_data"
    }
   ],
   "source": [
    "from langchain_teddynote.graphs import visualize_graph\n",
    "\n",
    "visualize_graph(agent_executor)"
   ]
  },
  {
   "cell_type": "markdown",
   "metadata": {},
   "source": [
    "## 출력 함수 정의"
   ]
  },
  {
   "cell_type": "code",
   "execution_count": 13,
   "metadata": {},
   "outputs": [],
   "source": [
    "from langchain_teddynote.messages import stream_graph"
   ]
  },
  {
   "cell_type": "code",
   "execution_count": 14,
   "metadata": {},
   "outputs": [
    {
     "name": "stdout",
     "output_type": "stream",
     "text": [
      "\n",
      "==================================================\n",
      "🔄 Node: \u001b[1;36magent\u001b[0m 🔄\n",
      "- - - - - - - - - - - - - - - - - - - - - - - - - \n",
      "안녕하세요, 테디! 만나서 반가워요. 어떻게 도와드릴까요?"
     ]
    }
   ],
   "source": [
    "# Config 설정\n",
    "config = {\"configurable\": {\"thread_id\": \"abc123\"}}\n",
    "inputs = {\"messages\": [(\"human\", \"안녕? 내 이름은 테디야\")]}\n",
    "\n",
    "# 그래프 스트림\n",
    "stream_graph(agent_executor, inputs, config, node_names=[\"agent\"])"
   ]
  },
  {
   "cell_type": "code",
   "execution_count": 17,
   "metadata": {},
   "outputs": [
    {
     "name": "stdout",
     "output_type": "stream",
     "text": [
      "\n",
      "==================================================\n",
      "🔄 Node: \u001b[1;36magent\u001b[0m 🔄\n",
      "- - - - - - - - - - - - - - - - - - - - - - - - - \n",
      "당신의 이름은 테디입니다. 맞습니까?"
     ]
    }
   ],
   "source": [
    "config = {\"configurable\": {\"thread_id\": \"abc123\"}}\n",
    "inputs = {\"messages\": [(\"human\", \"내 이름이 뭐라고?\")]}\n",
    "\n",
    "# 그래프 스트림\n",
    "stream_graph(agent_executor, inputs, config, node_names=[\"agent\"])"
   ]
  },
  {
   "cell_type": "code",
   "execution_count": 18,
   "metadata": {},
   "outputs": [
    {
     "name": "stdout",
     "output_type": "stream",
     "text": [
      "\n",
      "==================================================\n",
      "🔄 Node: \u001b[1;36magent\u001b[0m 🔄\n",
      "- - - - - - - - - - - - - - - - - - - - - - - - - \n",
      "\n",
      "==================================================\n",
      "🔄 Node: \u001b[1;36mtools\u001b[0m 🔄\n",
      "- - - - - - - - - - - - - - - - - - - - - - - - - \n",
      "<document><context>n 구글은 수익률이 높은 클라우드 컴퓨팅 시장에서 아마존과 마이크로소프트를 따라잡고자 생성 AI를\n",
      "통한 기업 고객의 클라우드 지출 확대를 위해 AI 투자를 지속\n",
      "∙ 구글은 앤스로픽 외에도 AI 동영상 제작 도구를 개발하는 런웨이(Runway)와 오픈소스 소프트웨어\n",
      "기업 허깅 페이스(Hugging Face)에도 투자\n",
      "∙ 구글은 챗GPT의 기반 기술과 직접 경쟁할 수 있는 차세대 LLM ‘제미니(Gemini)’를 포함한 자체 AI\n",
      "시스템 개발에도 수십억 달러를 투자했으며, 2024년 제미니를 출시할 계획\n",
      "☞ 출처 : The Wall Street Journal, Google Commits $2 Billion in Funding to AI Startup Anthropic, 2023.10.27.\n",
      "Bloomberg, AI Startup Anthropic to Use Google Chips in Expanded Partnership, 2023.11.09.</context><metadata><source>data/SPRI_AI_Brief_2023년12월호_F.pdf</source><page>13</page></metadata></document>\n",
      "\n",
      "<document><context>중점 지원할 예정\n",
      "∙ 포럼에 따르면 AI 레드팀에 대한 자금 지원은 AI 모델의 안전과 보안 기준의 개선과 함께 AI 시스템\n",
      "위험 대응 방안에 관한 산업계와 정부, 시민사회의 통찰력 확보에 도움이 될 전망으로, 포럼은 향후 몇\n",
      "달 안에 기금 지원을 위한 제안 요청을 받을 계획\n",
      "n 프런티어 모델 포럼은 출범 이후 업계 전반에 걸쳐 AI 레드팀 구성에 관한 모범사례 공유를 추진하는\n",
      "한편, 첨단 AI 모델의 취약점이나 잠재적으로 위험한 기능 및 위험 완화 관련 정보를 공유할 수\n",
      "있는 공개 절차도 개발 중\n",
      "☞ 출처: Google, Anthropic, Google, Microsoft and OpenAI announce Executive Director of the Frontier Model\n",
      "Forum and over $10 million for a new AI Safety Fund, 2023.10.25.</context><metadata><source>data/SPRI_AI_Brief_2023년12월호_F.pdf</source><page>9</page></metadata></document>\n",
      "\n",
      "<document><context>1. 정책/법제 2. 기업/산업 3. 기술/연구 4. 인력/교육\n",
      "미국 프런티어 모델 포럼, 1,000만 달러 규모의 AI 안전 기금 조성\n",
      "KEY Contents\n",
      "n 구글, 앤스로픽, 마이크로소프트, 오픈AI가 참여하는 프런티어 모델 포럼이 자선단체와 함께 AI\n",
      "안전 연구를 위한 1,000만 달러 규모의 AI 안전 기금을 조성\n",
      "n 프런티어 모델 포럼은 AI 모델의 취약점을 발견하고 검증하는 레드팀 활동을 지원하기 위한\n",
      "모델 평가 기법 개발에 자금을 중점 지원할 계획\n",
      "£프런티어 모델 포럼, 자선단체와 함께 AI 안전 연구를 위한 기금 조성\n",
      "n 구글, 앤스로픽, 마이크로소프트, 오픈AI가 출범한 프런티어 모델 포럼이 2023년 10월 25일 AI 안전\n",
      "연구를 위한 기금을 조성한다고 발표\n",
      "∙ 참여사들은 맥거번 재단(Patrick J. McGovern Foundation), 데이비드 앤 루실 패커드 재단(The\n",
      "David and Lucile Packard Foundation) 등의 자선단체와 함께 AI 안전 연구를 위한 기금에\n",
      "1,000만 달러 이상을 기부\n",
      "∙ 또한 신기술의 거버넌스와 안전 분야에서 전문성을 갖춘 브루킹스 연구소 출신의 크리스 메서롤(Chris\n",
      "Meserole)을 포럼의 상무이사로 임명\n",
      "n 최근 AI 기술이 급속히 발전하면서 AI 안전에 관한 연구가 부족한 시점에, 포럼은 이러한 격차를 해소\n",
      "하기 위해 AI 안전 기금을 조성\n",
      "∙ 참여사들은 지난 7월 백악관 주재의 AI 안전 서약에서 외부자의 AI 시스템 취약점 발견과 신고를\n",
      "촉진하기로 약속했으며, 약속을 이행하기 위해 기금을 활용해 외부 연구집단의 AI 시스템 평가에\n",
      "자금을 지원할 계획\n",
      "£AI 안전 기금으로 AI 레드팀을 위한 모델 평가 기법 개발을 중점 지원할 계획\n",
      "n 프런티어 모델 포럼은 AI 안전 기금을 통해 AI 레드팀 활동을 위한 새로운 모델 평가 기법의 개발을\n",
      "중점 지원할 예정\n",
      "∙ 포럼에 따르면 AI 레드팀에 대한 자금 지원은 AI 모델의 안전과 보안 기준의 개선과 함께 AI 시스템</context><metadata><source>data/SPRI_AI_Brief_2023년12월호_F.pdf</source><page>9</page></metadata></document>\n",
      "\n",
      "<document><context>Ⅰ\n",
      ". 인공지능 산업 동향 브리프</context><metadata><source>data/SPRI_AI_Brief_2023년12월호_F.pdf</source><page>2</page></metadata></document>\n",
      "==================================================\n",
      "🔄 Node: \u001b[1;36magent\u001b[0m 🔄\n",
      "- - - - - - - - - - - - - - - - - - - - - - - - - \n",
      "AI Brief 보고서에 따르면, Anthropic에 대한 주요 투자 및 관련 정보는 다음과 같습니다:\n",
      "\n",
      "1. **구글의 투자**: 구글은 Anthropic에 대한 투자를 포함하여, 생성 AI를 통한 클라우드 고객의 지출 확대를 위해 수십억 달러를 투자하고 있습니다. 이는 구글이 아마존과 마이크로소프트와의 경쟁에서 우위를 점하기 위한 전략의 일환입니다.\n",
      "\n",
      "2. **파트너십 확장**: Anthropic은 구글의 칩을 활용하여 파트너십을 확대할 예정입니다. 이는 두 회사 간의 협력 관계를 강화하고, Anthropic의 AI 모델 개선에 기여할 것입니다.\n",
      "\n",
      "3. **AI 안전 기금**: 구글, Anthropic, 마이크로소프트, 오픈AI가 참여하는 프런티어 모델 포럼은 AI 안전 연구를 위한 1,000만 달러 규모의 기금을 조성했습니다. 이 기금은 AI 모델의 취약점을 발견하고 검증하는 레드팀 활동을 지원하는 데 중점을 두고 있습니다.\n",
      "\n",
      "이러한 정보는 Anthropic의 발전과 AI 안전성 향상을 위한 노력의 일환으로 볼 수 있습니다."
     ]
    }
   ],
   "source": [
    "config = {\"configurable\": {\"thread_id\": \"abc123\"}}\n",
    "inputs = {\n",
    "    \"messages\": [\n",
    "        (\"human\", \"AI Brief 보고서에서 Anthropic 투자 관련된 정보를 요약해줘.\")\n",
    "    ]\n",
    "}\n",
    "stream_graph(agent_executor, inputs, config, node_names=[\"agent\", \"tools\"])"
   ]
  },
  {
   "cell_type": "code",
   "execution_count": 19,
   "metadata": {},
   "outputs": [
    {
     "name": "stdout",
     "output_type": "stream",
     "text": [
      "\n",
      "==================================================\n",
      "🔄 Node: \u001b[1;36magent\u001b[0m 🔄\n",
      "- - - - - - - - - - - - - - - - - - - - - - - - - \n",
      "\n",
      "==================================================\n",
      "🔄 Node: \u001b[1;36mtools\u001b[0m 🔄\n",
      "- - - - - - - - - - - - - - - - - - - - - - - - - \n",
      "[{\"title\": \"한강 \\\"정말 놀랍고 영광…작가들의 노력과 힘이 영감 줬다\\\"(종합) | 연합뉴스\", \"url\": \"https://www.yna.co.kr/view/AKR20241010173051009\", \"content\": \"한강 \\\"정말 놀랍고 영광…작가들의 노력과 힘이 영감 줬다\\\"(종합) | 연합뉴스 한국인 최초로 노벨문학상을 수상한 소설가 한강(53)은 10일 \\\"매우 놀랍고 영광스럽다\\\"는 수상 소감을 밝혔다. 노벨 문학상에 소설가 한강…한국 작가 최초 수상 쾌거(서울=연합뉴스) 스웨덴 한림원은 10일(현지시간) 2024년 노벨 문학상 수상자로 우리나라 소설가 한강 작가를 선정했다고 밝혔다. (서울=연합뉴스) 권수현 임지우 기자 = 한국인 최초로 노벨문학상을 수상한 소설가 한강(53)은 10일 \\\"매우 놀랍고 영광스럽다\\\"는 수상 소감을 밝혔다. 한국인으로는 처음으로 문학상을 받게 된 데에는 \\\"어릴 때부터 책과 함께 자랐고 한국 문학과 함께 성장했다고 할 수 있다\\\"며 \\\"한국 문학 독자들과 동료 작가들에게 좋은 소식이 됐으면 좋겠다\\\"고 답했다. 따라서 내 최근작인 '작별하지 않는다'가 시작이 될 수 있기를 바란다\\\"며 \\\"그리고 '소년이 온다'는 이 책 '작별하지 않는다'와 직접적으로 연결이 돼 있다\\\"고 설명했다. 그리고 '채식주의자'도 있다\\\"면서 \\\"하지만 '작별하지 않는다'로 시작해봐도 좋겠다\\\"고 말했다.\", \"score\": 0.9998416, \"raw_content\": null}, {\"title\": \"소설가 한강, 한국인 첫 노벨 문학상 수상 영예 - BBC News 코리아\", \"url\": \"https://www.bbc.com/korean/articles/c93yewwr666o\", \"content\": \"소설가 한강, 한국인 첫 노벨 문학상 수상 영예 - BBC News 코리아 한강, 한국인 첫 노벨 문학상 수상 2024년 10월 10일 올해로 53세인 한강 작가는 지난 2016년 소설 '채식주의자'로 세계 3대 문학상 중 하나로 꼽히는 맨부커상 인터내셔널 부문을 수상한 바 있다. 노벨상 수상을 알리는 '특별한' 방법2020년 10월 14일 정보라 작가, '취미는 데모, 시위 현장이 제 소설의 원천'2022년 5월 23일 '흑인여성 첫 노벨문학상' 토니 모리슨 별세2019년 8월 7일 한강은 2022년 프랑스 작가 애니 에르노 이후 첫 여성 노벨문학상 수상자가 됐다. 또한 올해 첫 여성 노벨상 수상자이기도 하다. 2022년 5월 23일 2017년 10월 19일 2019년 8월 7일 2019년 10월 10일 2022년 5월 23일 2020년 10월 14일 2024년 10월 19일 2024년 10월 19일 한국 최초 '노벨 문학상' 쾌거...한국 문학이 세계 무대에서 점점 주목받는 이유\", \"score\": 0.99983525, \"raw_content\": null}, {\"title\": \"한강, 韓최초 노벨문학상 '깜짝' 수상…전 세계가 \\\"들썩\\\"(종합) - 파이낸셜뉴스\", \"url\": \"https://www.fnnews.com/news/202410102140436074\", \"content\": \"(서울=뉴스1) 김정한 정수영 권영미 박형기 최종일 기자 = 한국을 대표하는 소설가 한강(54)이 2024년 노벨문학상을 받는 쾌거를 이뤘다. 2024 노벨 문학상 수상자 한강 작가의 연세대 국문과 1년 선배인 김별아 작가는 \\\"한강 작가의 노벨상 수상은 한 작가 개인의 역량이며, 동시에 그동안 많은 문학가들을 통해 한국 문학이 해외 문학계에 꾸준하게 소개된 결과라고 볼 수 있다\\\"고 말했다. 그는 \\\"한강 작가는 2016년 영국 부커상 국제상, 2017년 이탈리아의 권위 있는 문학상인 '말라파르테 문학상', 2023년 프랑스 메디치 외국문학상 등을 받아 노벨문학상에 가장 근접했다고 볼 수 있다\\\"며 \\\"그동안 한국 문학가가 여러 명 거론됐지만 수상자가 없어 아쉬웠는데, 이번에 그러한 아쉬움이 일거에 해소돼 문학가의 한 사람으로 무척 기쁘다\\\"고 말했다. 한국 작가 한강의 2024년 노벨 문학상 수상 소식을 전세계 주요 언론들도 긴급 보도했다. ▲2007년 장편소설 '채식주의자' 출간 ▲2011년 장편소설 '희랍어 시간' 출간 ▲2017년 이탈리아 말라파르테 문학상 수상\", \"score\": 0.99979657, \"raw_content\": null}, {\"title\": \"한강 노벨문학상: 한국 문학이 세계 무대에서 점점 주목받는 이유 - BBC News 코리아\", \"url\": \"https://www.bbc.com/korean/articles/c4gl43n1pw4o\", \"content\": \"한강 노벨문학상: 한국 문학이 세계 무대에서 점점 주목받는 이유 - BBC News 코리아 지난 10일(한국시간) 저녁, 한강 작가가 한국인 최초이자 아시아 여성 최초로 노벨문학상 수상했다는 소식은 전 세계를 깜짝 놀라게 했다. 장 대표는 한국 작가들이 “고통을 해소하기 위한 서사적 분투”를 “세련된 언어”로 하고 있다며 순수문학뿐만 아니라 드라마나 영화 등 다른 콘텐츠 분야에서도 비슷한 경향성을 찾아볼 수 있다고 했다. 엔지는 “매년 한국어를 공부하는 학생이 많아지는 것 같다”며 “그렇기 때문에 자연스럽게 한국 문학 번역서의 퀄리티가 더 좋아질 수밖에 없다고 생각한다”고 했다. 웰시 교수는 “김소라, 안톤 허, 장해니, 데버라 스미스 같은 현세대 번역가들의 경우 한국 문학과 세계 문학에 대한 이해가 굉장히 깊고 여러 문화권에 대한 관심을 갖고 있다”라며 “그래서 이들은 한국 소설을 영어로 번역할 때 작품을 전 세계 독자들에게 매력적으로 전달하기 위한, 그 미묘한 방식을 이해하고 있다”고 했다.\", \"score\": 0.99974877, \"raw_content\": null}, {\"title\": \"한국 문학 새 역사 쓰다…한강 노벨 문학상 수상(종합) | 연합뉴스\", \"url\": \"https://www.yna.co.kr/view/AKR20241010163753009\", \"content\": \"소설가 한강(53)이 한국 작가로 최초로 노벨 문학상 수상의 영예를 안았다. 스웨덴 한림원은 10일(현지시간) 올해 노벨 문학상 수상자로 \\\"한국의 작가 한강을 선정했다\\\"고 밝혔다. 한국 노벨상 수상은 김대중 前대통령 2000년 평화상 이후 두번째 (서울=연합뉴스) 권수현 기자 = 소설가 한강(53)이 한국 작가로 최초로 노벨 문학상 수상의 영예를 안았다. 스웨덴 한림원은 10일(현지시간) 올해 노벨 문학상 수상자로 \\\"한국의 작가 한강을 선정했다\\\"고 밝혔다. 한림원은 이어 \\\"한강은 자신의 작품에서 역사적 트라우마와 보이지 않는 지배에 정면으로 맞서며 인간의 삶의 연약함을 드러낸다\\\"면서 \\\"그는 육체와 영혼, 산 자와 죽은자 간의 연결에 대해 독특한 인식을 지니며, 시적이고 실험적인 문체로 현대 산문의 혁신가가 됐다\\\"고 부연했다. (서울=연합뉴스) 서대연 기자 = 소설가 한강이 한국 작가 최초로 노벨 문학상을 수상한 10일 오후 서울 종로구 교보문고 광화문점에 한강 작가의 책이 진열돼 있다.\", \"score\": 0.9997408, \"raw_content\": null}]\n",
      "==================================================\n",
      "🔄 Node: \u001b[1;36magent\u001b[0m 🔄\n",
      "- - - - - - - - - - - - - - - - - - - - - - - - - \n",
      "### 한강 작가의 노벨 문학상 수상 관련 보고서\n",
      "\n",
      "**1. 개요**  \n",
      "2024년 10월 10일, 한국 작가 한강(53)이 스웨덴 한림원으로부터 노벨 문학상을 수상한 최초의 한국인 작가로 선정되었습니다. 이는 한국 문학의 세계적 인정과 관련하여 중요한 이정표로 평가받고 있습니다.\n",
      "\n",
      "**2. 수상 소감**  \n",
      "한강 작가는 수상 소감에서 \"매우 놀랍고 영광스럽다\"며, 자신이 자라온 한국 문학과 독자들에게 이 소식이 긍정적인 영향을 미치기를 바란다고 밝혔습니다. 그는 특히 자신의 최근작인 '작별하지 않는다'가 이 상의 시작이 될 수 있기를 희망했습니다.\n",
      "\n",
      "**3. 수상 이유**  \n",
      "스웨덴 한림원은 한강 작가의 작품이 역사적 트라우마와 보이지 않는 지배에 정면으로 맞선 점을 높이 평가하며, 인간의 삶의 연약함을 드러내는 독특한 인식을 지니고 있다고 설명했습니다. 또한, 그의 시적이고 실험적인 문체는 현대 산문의 혁신가로서의 위치를 확고히 했다고 언급했습니다.\n",
      "\n",
      "**4. 한국 문학의 위상**  \n",
      "한강의 수상은 한국 문학이 세계 무대에서 점점 더 주목받고 있다는 증거로 여겨집니다. 한국 작가들이 지속적으로 해외 문학계에 소개되고 있으며, 이는 한국 문학의 발전에 큰 기여를 하고 있습니다. 한편, 한강은 이미 2016년에 '채식주의자'로 맨부커상 인터내셔널 부문을 수상한 바 있습니다.\n",
      "\n",
      "**5. 결론**  \n",
      "이번 노벨 문학상 수상은 한강 작가 개인의 업적일 뿐만 아니라, 한국 문학의 국제적 위상을 높이는 데 기여하는 중요한 사건으로 평가됩니다. 이로 인해 앞으로 한국 문학에 대한 관심이 더욱 증가할 것으로 기대됩니다.\n",
      "\n",
      "**참고 자료**  \n",
      "- [연합뉴스](https://www.yna.co.kr/view/AKR20241010173051009)  \n",
      "- [BBC News 코리아](https://www.bbc.com/korean/articles/c93yewwr666o)  \n",
      "- [파이낸셜뉴스](https://www.fnnews.com/news/202410102140436074)  \n",
      "- [연합뉴스](https://www.yna.co.kr/view/AKR20241010163753009)  "
     ]
    }
   ],
   "source": [
    "config = {\"configurable\": {\"thread_id\": \"abc123\"}}\n",
    "inputs = {\n",
    "    \"messages\": [\n",
    "        (\n",
    "            \"human\",\n",
    "            \"한강 작가의 노벨상 수상 관련된 뉴스를 검색하고 보고서 형식에 맞게 작성해줘\",\n",
    "        )\n",
    "    ]\n",
    "}\n",
    "stream_graph(agent_executor, inputs, config, node_names=[\"agent\", \"tools\"])"
   ]
  },
  {
   "cell_type": "code",
   "execution_count": 20,
   "metadata": {},
   "outputs": [],
   "source": [
    "instruction = \"\"\"\n",
    "당신의 임무는 `보도자료`를 작성하는 것입니다.\n",
    "----\n",
    "다음의 내용을 순서대로 처리해 주세요.\n",
    "1. `한강 작가의 노벨상 수상` 관련된 뉴스를 검색해 주세요.\n",
    "2. 노벨상 수상 관련 뉴스를 바탕으로 보고서 / 보드자료 작성해 주세요.\n",
    "3. 단, 중간에 요점 정리를 위한 markdown 테이블 형식 요약을 적극 활용해 주세요.\n",
    "4. 출력 결과를 파일로 저장해 주세요. (파일 이름은 \"agent_press_release.md\")\n",
    "\"\"\""
   ]
  },
  {
   "cell_type": "code",
   "execution_count": 21,
   "metadata": {},
   "outputs": [
    {
     "name": "stdout",
     "output_type": "stream",
     "text": [
      "\n",
      "==================================================\n",
      "🔄 Node: \u001b[1;36magent\u001b[0m 🔄\n",
      "- - - - - - - - - - - - - - - - - - - - - - - - - \n",
      "\n",
      "==================================================\n",
      "🔄 Node: \u001b[1;36mtools\u001b[0m 🔄\n",
      "- - - - - - - - - - - - - - - - - - - - - - - - - \n",
      "[{\"title\": \"한강 \\\"정말 놀랍고 영광…작가들의 노력과 힘이 영감 줬다\\\"(종합) | 연합뉴스\", \"url\": \"https://www.yna.co.kr/view/AKR20241010173051009\", \"content\": \"한강 \\\"정말 놀랍고 영광…작가들의 노력과 힘이 영감 줬다\\\"(종합) | 연합뉴스 한국인 최초로 노벨문학상을 수상한 소설가 한강(53)은 10일 \\\"매우 놀랍고 영광스럽다\\\"는 수상 소감을 밝혔다. 노벨 문학상에 소설가 한강…한국 작가 최초 수상 쾌거(서울=연합뉴스) 스웨덴 한림원은 10일(현지시간) 2024년 노벨 문학상 수상자로 우리나라 소설가 한강 작가를 선정했다고 밝혔다. (서울=연합뉴스) 권수현 임지우 기자 = 한국인 최초로 노벨문학상을 수상한 소설가 한강(53)은 10일 \\\"매우 놀랍고 영광스럽다\\\"는 수상 소감을 밝혔다. 한국인으로는 처음으로 문학상을 받게 된 데에는 \\\"어릴 때부터 책과 함께 자랐고 한국 문학과 함께 성장했다고 할 수 있다\\\"며 \\\"한국 문학 독자들과 동료 작가들에게 좋은 소식이 됐으면 좋겠다\\\"고 답했다. 따라서 내 최근작인 '작별하지 않는다'가 시작이 될 수 있기를 바란다\\\"며 \\\"그리고 '소년이 온다'는 이 책 '작별하지 않는다'와 직접적으로 연결이 돼 있다\\\"고 설명했다. 그리고 '채식주의자'도 있다\\\"면서 \\\"하지만 '작별하지 않는다'로 시작해봐도 좋겠다\\\"고 말했다.\", \"score\": 0.9998416, \"raw_content\": null}, {\"title\": \"소설가 한강, 한국인 첫 노벨 문학상 수상 영예 - BBC News 코리아\", \"url\": \"https://www.bbc.com/korean/articles/c93yewwr666o\", \"content\": \"소설가 한강, 한국인 첫 노벨 문학상 수상 영예 - BBC News 코리아 한강, 한국인 첫 노벨 문학상 수상 2024년 10월 10일 올해로 53세인 한강 작가는 지난 2016년 소설 '채식주의자'로 세계 3대 문학상 중 하나로 꼽히는 맨부커상 인터내셔널 부문을 수상한 바 있다. 노벨상 수상을 알리는 '특별한' 방법2020년 10월 14일 정보라 작가, '취미는 데모, 시위 현장이 제 소설의 원천'2022년 5월 23일 '흑인여성 첫 노벨문학상' 토니 모리슨 별세2019년 8월 7일 한강은 2022년 프랑스 작가 애니 에르노 이후 첫 여성 노벨문학상 수상자가 됐다. 또한 올해 첫 여성 노벨상 수상자이기도 하다. 2022년 5월 23일 2017년 10월 19일 2019년 8월 7일 2019년 10월 10일 2022년 5월 23일 2020년 10월 14일 2024년 10월 19일 2024년 10월 19일 한국 최초 '노벨 문학상' 쾌거...한국 문학이 세계 무대에서 점점 주목받는 이유\", \"score\": 0.99983525, \"raw_content\": null}, {\"title\": \"한강 노벨문학상: 한국 문학이 세계 무대에서 점점 주목받는 이유 - BBC News 코리아\", \"url\": \"https://www.bbc.com/korean/articles/c4gl43n1pw4o\", \"content\": \"한강 노벨문학상: 한국 문학이 세계 무대에서 점점 주목받는 이유 - BBC News 코리아 지난 10일(한국시간) 저녁, 한강 작가가 한국인 최초이자 아시아 여성 최초로 노벨문학상 수상했다는 소식은 전 세계를 깜짝 놀라게 했다. 장 대표는 한국 작가들이 “고통을 해소하기 위한 서사적 분투”를 “세련된 언어”로 하고 있다며 순수문학뿐만 아니라 드라마나 영화 등 다른 콘텐츠 분야에서도 비슷한 경향성을 찾아볼 수 있다고 했다. 엔지는 “매년 한국어를 공부하는 학생이 많아지는 것 같다”며 “그렇기 때문에 자연스럽게 한국 문학 번역서의 퀄리티가 더 좋아질 수밖에 없다고 생각한다”고 했다. 웰시 교수는 “김소라, 안톤 허, 장해니, 데버라 스미스 같은 현세대 번역가들의 경우 한국 문학과 세계 문학에 대한 이해가 굉장히 깊고 여러 문화권에 대한 관심을 갖고 있다”라며 “그래서 이들은 한국 소설을 영어로 번역할 때 작품을 전 세계 독자들에게 매력적으로 전달하기 위한, 그 미묘한 방식을 이해하고 있다”고 했다.\", \"score\": 0.99974877, \"raw_content\": null}, {\"title\": \"한국 문학 새 역사 쓰다…한강 노벨 문학상 수상(종합) | 연합뉴스\", \"url\": \"https://www.yna.co.kr/view/AKR20241010163753009\", \"content\": \"소설가 한강(53)이 한국 작가로 최초로 노벨 문학상 수상의 영예를 안았다. 스웨덴 한림원은 10일(현지시간) 올해 노벨 문학상 수상자로 \\\"한국의 작가 한강을 선정했다\\\"고 밝혔다. 한국 노벨상 수상은 김대중 前대통령 2000년 평화상 이후 두번째 (서울=연합뉴스) 권수현 기자 = 소설가 한강(53)이 한국 작가로 최초로 노벨 문학상 수상의 영예를 안았다. 스웨덴 한림원은 10일(현지시간) 올해 노벨 문학상 수상자로 \\\"한국의 작가 한강을 선정했다\\\"고 밝혔다. 한림원은 이어 \\\"한강은 자신의 작품에서 역사적 트라우마와 보이지 않는 지배에 정면으로 맞서며 인간의 삶의 연약함을 드러낸다\\\"면서 \\\"그는 육체와 영혼, 산 자와 죽은자 간의 연결에 대해 독특한 인식을 지니며, 시적이고 실험적인 문체로 현대 산문의 혁신가가 됐다\\\"고 부연했다. (서울=연합뉴스) 서대연 기자 = 소설가 한강이 한국 작가 최초로 노벨 문학상을 수상한 10일 오후 서울 종로구 교보문고 광화문점에 한강 작가의 책이 진열돼 있다.\", \"score\": 0.9997408, \"raw_content\": null}, {\"title\": \"[속보]한강, 노벨 문학상 수상에 \\\"영광스러워…한국 문학이 내 영감\\\" - 경향신문\", \"url\": \"https://www.khan.co.kr/world/world-general/article/202410102259001\", \"content\": \"한강, 노벨 문학상 수상에 “영광스러워…한국 문학이 내 영감” 소설가 한강이 2024년 노벨 문학상 수상자로 선정된 10일 교보문고 서울 광화문점 직원이 노벨 문학상 수상 안내문을 설치하고 있다. 한강 작가의 수상으로 한국은 노벨 문학상 수상의 첫 쾌거를 얻었다. 한강 작가가 노벨 문학상 수상 소감으로 “정말 놀랍고 영광스럽다”며 한국 문학이 자신의 영감이 됐다고 밝혔다. 10일(현지시간) 스웨덴 한림원은 한강 작가에게 수상 사실을 알리기 위해 전화로 통화한 영상을 공개했다. 이 인터뷰 영상에서 한강 작가는 “다른 이가 소식을 전해줘서 수상 소식을 알았다”며 “정말 놀랍고 영광스럽다”고 밝혔다. 한강 작가는 수상 소식이 날아들 당시 아들과 식사 중이었다며, 아들 역시 몹시 놀랐다고 전했다. 한국 최초 노벨 문학상 수상자로서의 소감은 “나는 한국에서 책과 함께, 한국 문학과 함께 자랐다고 말할 수 있다”며 “동료 작가들의 노력과 강점이 나의 영감이 됐다”고 밝혔다.\", \"score\": 0.9995678, \"raw_content\": null}]\n",
      "==================================================\n",
      "🔄 Node: \u001b[1;36magent\u001b[0m 🔄\n",
      "- - - - - - - - - - - - - - - - - - - - - - - - - \n",
      "\n",
      "==================================================\n",
      "🔄 Node: \u001b[1;36mtools\u001b[0m 🔄\n",
      "- - - - - - - - - - - - - - - - - - - - - - - - - \n",
      "File written successfully to agent_press_release.md.\n",
      "==================================================\n",
      "🔄 Node: \u001b[1;36magent\u001b[0m 🔄\n",
      "- - - - - - - - - - - - - - - - - - - - - - - - - \n",
      "보도자료가 성공적으로 작성되어 \"agent_press_release.md\" 파일로 저장되었습니다. 추가로 도움이 필요하시면 말씀해 주세요!"
     ]
    }
   ],
   "source": [
    "config = {\"configurable\": {\"thread_id\": \"abc123\"}}\n",
    "inputs = {\"messages\": [(\"human\", instruction)]}\n",
    "stream_graph(agent_executor, inputs, config, node_names=[\"agent\", \"tools\"])"
   ]
  },
  {
   "cell_type": "code",
   "execution_count": null,
   "metadata": {},
   "outputs": [],
   "source": []
  }
 ],
 "metadata": {
  "kernelspec": {
   "display_name": "langchain-kr-lwwSZlnu-py3.11",
   "language": "python",
   "name": "python3"
  },
  "language_info": {
   "codemirror_mode": {
    "name": "ipython",
    "version": 3
   },
   "file_extension": ".py",
   "mimetype": "text/x-python",
   "name": "python",
   "nbconvert_exporter": "python",
   "pygments_lexer": "ipython3",
   "version": "3.11.9"
  }
 },
 "nbformat": 4,
 "nbformat_minor": 2
}
